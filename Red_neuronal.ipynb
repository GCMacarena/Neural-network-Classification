{
  "nbformat": 4,
  "nbformat_minor": 0,
  "metadata": {
    "colab": {
      "provenance": []
    },
    "kernelspec": {
      "name": "python3",
      "display_name": "Python 3"
    },
    "language_info": {
      "name": "python"
    }
  },
  "cells": [
    {
      "cell_type": "markdown",
      "source": [
        "**----------------------------------------------------------------------------------** \n",
        "# **Análisis exploratorio de datos (EDA)**"
      ],
      "metadata": {
        "id": "FWK1w2yKf25q"
      }
    },
    {
      "cell_type": "markdown",
      "source": [
        "**Importo mxmh_survey_results.csv**"
      ],
      "metadata": {
        "id": "E178eEDcMpqj"
      }
    },
    {
      "cell_type": "code",
      "source": [
        "!pip install pandas"
      ],
      "metadata": {
        "colab": {
          "base_uri": "https://localhost:8080/"
        },
        "id": "Z-mYnAKIHZAl",
        "outputId": "34687404-85b1-4020-9626-12cc4a59f404"
      },
      "execution_count": null,
      "outputs": [
        {
          "output_type": "stream",
          "name": "stdout",
          "text": [
            "Looking in indexes: https://pypi.org/simple, https://us-python.pkg.dev/colab-wheels/public/simple/\n",
            "Requirement already satisfied: pandas in /usr/local/lib/python3.10/dist-packages (1.5.3)\n",
            "Requirement already satisfied: pytz>=2020.1 in /usr/local/lib/python3.10/dist-packages (from pandas) (2022.7.1)\n",
            "Requirement already satisfied: python-dateutil>=2.8.1 in /usr/local/lib/python3.10/dist-packages (from pandas) (2.8.2)\n",
            "Requirement already satisfied: numpy>=1.21.0 in /usr/local/lib/python3.10/dist-packages (from pandas) (1.22.4)\n",
            "Requirement already satisfied: six>=1.5 in /usr/local/lib/python3.10/dist-packages (from python-dateutil>=2.8.1->pandas) (1.16.0)\n"
          ]
        }
      ]
    },
    {
      "cell_type": "code",
      "source": [
        "import pandas as pd\n",
        "from google.colab import drive"
      ],
      "metadata": {
        "id": "72hRZcGZJqei"
      },
      "execution_count": null,
      "outputs": []
    },
    {
      "cell_type": "code",
      "source": [
        "df = pd.read_csv(\"/content/mxmh_survey_results.csv\")\n",
        "df.head()"
      ],
      "metadata": {
        "colab": {
          "base_uri": "https://localhost:8080/"
        },
        "id": "TZAd3w3RKcbi",
        "outputId": "e75b8322-cc6c-41f0-ded5-131dd07f968b"
      },
      "execution_count": null,
      "outputs": [
        {
          "output_type": "execute_result",
          "data": {
            "text/plain": [
              "            Timestamp   Age Primary streaming service  Hours per day  \\\n",
              "0  8/27/2022 19:29:02  18.0                   Spotify            3.0   \n",
              "1  8/27/2022 19:57:31  63.0                   Pandora            1.5   \n",
              "2  8/27/2022 21:28:18  18.0                   Spotify            4.0   \n",
              "3  8/27/2022 21:40:40  61.0             YouTube Music            2.5   \n",
              "4  8/27/2022 21:54:47  18.0                   Spotify            4.0   \n",
              "\n",
              "  While working Instrumentalist Composer         Fav genre Exploratory  \\\n",
              "0           Yes             Yes      Yes             Latin         Yes   \n",
              "1           Yes              No       No              Rock         Yes   \n",
              "2            No              No       No  Video game music          No   \n",
              "3           Yes              No      Yes              Jazz         Yes   \n",
              "4           Yes              No       No               R&B         Yes   \n",
              "\n",
              "  Foreign languages  ...  Frequency [R&B]  Frequency [Rap] Frequency [Rock]  \\\n",
              "0               Yes  ...        Sometimes  Very frequently            Never   \n",
              "1                No  ...        Sometimes           Rarely  Very frequently   \n",
              "2               Yes  ...            Never           Rarely           Rarely   \n",
              "3               Yes  ...        Sometimes            Never            Never   \n",
              "4                No  ...  Very frequently  Very frequently            Never   \n",
              "\n",
              "  Frequency [Video game music] Anxiety Depression Insomnia  OCD Music effects  \\\n",
              "0                    Sometimes     3.0        0.0      1.0  0.0           NaN   \n",
              "1                       Rarely     7.0        2.0      2.0  1.0           NaN   \n",
              "2              Very frequently     7.0        7.0     10.0  2.0     No effect   \n",
              "3                        Never     9.0        7.0      3.0  3.0       Improve   \n",
              "4                       Rarely     7.0        2.0      5.0  9.0       Improve   \n",
              "\n",
              "     Permissions  \n",
              "0  I understand.  \n",
              "1  I understand.  \n",
              "2  I understand.  \n",
              "3  I understand.  \n",
              "4  I understand.  \n",
              "\n",
              "[5 rows x 33 columns]"
            ],
            "text/html": [
              "\n",
              "  <div id=\"df-21806976-9c99-4718-857a-ee7c7f7dca42\">\n",
              "    <div class=\"colab-df-container\">\n",
              "      <div>\n",
              "<style scoped>\n",
              "    .dataframe tbody tr th:only-of-type {\n",
              "        vertical-align: middle;\n",
              "    }\n",
              "\n",
              "    .dataframe tbody tr th {\n",
              "        vertical-align: top;\n",
              "    }\n",
              "\n",
              "    .dataframe thead th {\n",
              "        text-align: right;\n",
              "    }\n",
              "</style>\n",
              "<table border=\"1\" class=\"dataframe\">\n",
              "  <thead>\n",
              "    <tr style=\"text-align: right;\">\n",
              "      <th></th>\n",
              "      <th>Timestamp</th>\n",
              "      <th>Age</th>\n",
              "      <th>Primary streaming service</th>\n",
              "      <th>Hours per day</th>\n",
              "      <th>While working</th>\n",
              "      <th>Instrumentalist</th>\n",
              "      <th>Composer</th>\n",
              "      <th>Fav genre</th>\n",
              "      <th>Exploratory</th>\n",
              "      <th>Foreign languages</th>\n",
              "      <th>...</th>\n",
              "      <th>Frequency [R&amp;B]</th>\n",
              "      <th>Frequency [Rap]</th>\n",
              "      <th>Frequency [Rock]</th>\n",
              "      <th>Frequency [Video game music]</th>\n",
              "      <th>Anxiety</th>\n",
              "      <th>Depression</th>\n",
              "      <th>Insomnia</th>\n",
              "      <th>OCD</th>\n",
              "      <th>Music effects</th>\n",
              "      <th>Permissions</th>\n",
              "    </tr>\n",
              "  </thead>\n",
              "  <tbody>\n",
              "    <tr>\n",
              "      <th>0</th>\n",
              "      <td>8/27/2022 19:29:02</td>\n",
              "      <td>18.0</td>\n",
              "      <td>Spotify</td>\n",
              "      <td>3.0</td>\n",
              "      <td>Yes</td>\n",
              "      <td>Yes</td>\n",
              "      <td>Yes</td>\n",
              "      <td>Latin</td>\n",
              "      <td>Yes</td>\n",
              "      <td>Yes</td>\n",
              "      <td>...</td>\n",
              "      <td>Sometimes</td>\n",
              "      <td>Very frequently</td>\n",
              "      <td>Never</td>\n",
              "      <td>Sometimes</td>\n",
              "      <td>3.0</td>\n",
              "      <td>0.0</td>\n",
              "      <td>1.0</td>\n",
              "      <td>0.0</td>\n",
              "      <td>NaN</td>\n",
              "      <td>I understand.</td>\n",
              "    </tr>\n",
              "    <tr>\n",
              "      <th>1</th>\n",
              "      <td>8/27/2022 19:57:31</td>\n",
              "      <td>63.0</td>\n",
              "      <td>Pandora</td>\n",
              "      <td>1.5</td>\n",
              "      <td>Yes</td>\n",
              "      <td>No</td>\n",
              "      <td>No</td>\n",
              "      <td>Rock</td>\n",
              "      <td>Yes</td>\n",
              "      <td>No</td>\n",
              "      <td>...</td>\n",
              "      <td>Sometimes</td>\n",
              "      <td>Rarely</td>\n",
              "      <td>Very frequently</td>\n",
              "      <td>Rarely</td>\n",
              "      <td>7.0</td>\n",
              "      <td>2.0</td>\n",
              "      <td>2.0</td>\n",
              "      <td>1.0</td>\n",
              "      <td>NaN</td>\n",
              "      <td>I understand.</td>\n",
              "    </tr>\n",
              "    <tr>\n",
              "      <th>2</th>\n",
              "      <td>8/27/2022 21:28:18</td>\n",
              "      <td>18.0</td>\n",
              "      <td>Spotify</td>\n",
              "      <td>4.0</td>\n",
              "      <td>No</td>\n",
              "      <td>No</td>\n",
              "      <td>No</td>\n",
              "      <td>Video game music</td>\n",
              "      <td>No</td>\n",
              "      <td>Yes</td>\n",
              "      <td>...</td>\n",
              "      <td>Never</td>\n",
              "      <td>Rarely</td>\n",
              "      <td>Rarely</td>\n",
              "      <td>Very frequently</td>\n",
              "      <td>7.0</td>\n",
              "      <td>7.0</td>\n",
              "      <td>10.0</td>\n",
              "      <td>2.0</td>\n",
              "      <td>No effect</td>\n",
              "      <td>I understand.</td>\n",
              "    </tr>\n",
              "    <tr>\n",
              "      <th>3</th>\n",
              "      <td>8/27/2022 21:40:40</td>\n",
              "      <td>61.0</td>\n",
              "      <td>YouTube Music</td>\n",
              "      <td>2.5</td>\n",
              "      <td>Yes</td>\n",
              "      <td>No</td>\n",
              "      <td>Yes</td>\n",
              "      <td>Jazz</td>\n",
              "      <td>Yes</td>\n",
              "      <td>Yes</td>\n",
              "      <td>...</td>\n",
              "      <td>Sometimes</td>\n",
              "      <td>Never</td>\n",
              "      <td>Never</td>\n",
              "      <td>Never</td>\n",
              "      <td>9.0</td>\n",
              "      <td>7.0</td>\n",
              "      <td>3.0</td>\n",
              "      <td>3.0</td>\n",
              "      <td>Improve</td>\n",
              "      <td>I understand.</td>\n",
              "    </tr>\n",
              "    <tr>\n",
              "      <th>4</th>\n",
              "      <td>8/27/2022 21:54:47</td>\n",
              "      <td>18.0</td>\n",
              "      <td>Spotify</td>\n",
              "      <td>4.0</td>\n",
              "      <td>Yes</td>\n",
              "      <td>No</td>\n",
              "      <td>No</td>\n",
              "      <td>R&amp;B</td>\n",
              "      <td>Yes</td>\n",
              "      <td>No</td>\n",
              "      <td>...</td>\n",
              "      <td>Very frequently</td>\n",
              "      <td>Very frequently</td>\n",
              "      <td>Never</td>\n",
              "      <td>Rarely</td>\n",
              "      <td>7.0</td>\n",
              "      <td>2.0</td>\n",
              "      <td>5.0</td>\n",
              "      <td>9.0</td>\n",
              "      <td>Improve</td>\n",
              "      <td>I understand.</td>\n",
              "    </tr>\n",
              "  </tbody>\n",
              "</table>\n",
              "<p>5 rows × 33 columns</p>\n",
              "</div>\n",
              "      <button class=\"colab-df-convert\" onclick=\"convertToInteractive('df-21806976-9c99-4718-857a-ee7c7f7dca42')\"\n",
              "              title=\"Convert this dataframe to an interactive table.\"\n",
              "              style=\"display:none;\">\n",
              "        \n",
              "  <svg xmlns=\"http://www.w3.org/2000/svg\" height=\"24px\"viewBox=\"0 0 24 24\"\n",
              "       width=\"24px\">\n",
              "    <path d=\"M0 0h24v24H0V0z\" fill=\"none\"/>\n",
              "    <path d=\"M18.56 5.44l.94 2.06.94-2.06 2.06-.94-2.06-.94-.94-2.06-.94 2.06-2.06.94zm-11 1L8.5 8.5l.94-2.06 2.06-.94-2.06-.94L8.5 2.5l-.94 2.06-2.06.94zm10 10l.94 2.06.94-2.06 2.06-.94-2.06-.94-.94-2.06-.94 2.06-2.06.94z\"/><path d=\"M17.41 7.96l-1.37-1.37c-.4-.4-.92-.59-1.43-.59-.52 0-1.04.2-1.43.59L10.3 9.45l-7.72 7.72c-.78.78-.78 2.05 0 2.83L4 21.41c.39.39.9.59 1.41.59.51 0 1.02-.2 1.41-.59l7.78-7.78 2.81-2.81c.8-.78.8-2.07 0-2.86zM5.41 20L4 18.59l7.72-7.72 1.47 1.35L5.41 20z\"/>\n",
              "  </svg>\n",
              "      </button>\n",
              "      \n",
              "  <style>\n",
              "    .colab-df-container {\n",
              "      display:flex;\n",
              "      flex-wrap:wrap;\n",
              "      gap: 12px;\n",
              "    }\n",
              "\n",
              "    .colab-df-convert {\n",
              "      background-color: #E8F0FE;\n",
              "      border: none;\n",
              "      border-radius: 50%;\n",
              "      cursor: pointer;\n",
              "      display: none;\n",
              "      fill: #1967D2;\n",
              "      height: 32px;\n",
              "      padding: 0 0 0 0;\n",
              "      width: 32px;\n",
              "    }\n",
              "\n",
              "    .colab-df-convert:hover {\n",
              "      background-color: #E2EBFA;\n",
              "      box-shadow: 0px 1px 2px rgba(60, 64, 67, 0.3), 0px 1px 3px 1px rgba(60, 64, 67, 0.15);\n",
              "      fill: #174EA6;\n",
              "    }\n",
              "\n",
              "    [theme=dark] .colab-df-convert {\n",
              "      background-color: #3B4455;\n",
              "      fill: #D2E3FC;\n",
              "    }\n",
              "\n",
              "    [theme=dark] .colab-df-convert:hover {\n",
              "      background-color: #434B5C;\n",
              "      box-shadow: 0px 1px 3px 1px rgba(0, 0, 0, 0.15);\n",
              "      filter: drop-shadow(0px 1px 2px rgba(0, 0, 0, 0.3));\n",
              "      fill: #FFFFFF;\n",
              "    }\n",
              "  </style>\n",
              "\n",
              "      <script>\n",
              "        const buttonEl =\n",
              "          document.querySelector('#df-21806976-9c99-4718-857a-ee7c7f7dca42 button.colab-df-convert');\n",
              "        buttonEl.style.display =\n",
              "          google.colab.kernel.accessAllowed ? 'block' : 'none';\n",
              "\n",
              "        async function convertToInteractive(key) {\n",
              "          const element = document.querySelector('#df-21806976-9c99-4718-857a-ee7c7f7dca42');\n",
              "          const dataTable =\n",
              "            await google.colab.kernel.invokeFunction('convertToInteractive',\n",
              "                                                     [key], {});\n",
              "          if (!dataTable) return;\n",
              "\n",
              "          const docLinkHtml = 'Like what you see? Visit the ' +\n",
              "            '<a target=\"_blank\" href=https://colab.research.google.com/notebooks/data_table.ipynb>data table notebook</a>'\n",
              "            + ' to learn more about interactive tables.';\n",
              "          element.innerHTML = '';\n",
              "          dataTable['output_type'] = 'display_data';\n",
              "          await google.colab.output.renderOutput(dataTable, element);\n",
              "          const docLink = document.createElement('div');\n",
              "          docLink.innerHTML = docLinkHtml;\n",
              "          element.appendChild(docLink);\n",
              "        }\n",
              "      </script>\n",
              "    </div>\n",
              "  </div>\n",
              "  "
            ]
          },
          "metadata": {},
          "execution_count": 719
        }
      ]
    },
    {
      "cell_type": "code",
      "source": [
        "# Indico las dimensiones de la matriz \n",
        "df.shape"
      ],
      "metadata": {
        "colab": {
          "base_uri": "https://localhost:8080/"
        },
        "id": "UkOlkOyNg1oa",
        "outputId": "03d4c018-c496-41d6-bb52-7a9ef2269fd9"
      },
      "execution_count": null,
      "outputs": [
        {
          "output_type": "execute_result",
          "data": {
            "text/plain": [
              "(736, 33)"
            ]
          },
          "metadata": {},
          "execution_count": 720
        }
      ]
    },
    {
      "cell_type": "code",
      "source": [
        "# Obtengo los tipos de datos de cada columna \n",
        "df.dtypes"
      ],
      "metadata": {
        "colab": {
          "base_uri": "https://localhost:8080/"
        },
        "id": "DLV-rw6Pf5a8",
        "outputId": "ee71e7f3-3e4d-45a4-9a13-30d53ad55450"
      },
      "execution_count": null,
      "outputs": [
        {
          "output_type": "execute_result",
          "data": {
            "text/plain": [
              "Timestamp                        object\n",
              "Age                             float64\n",
              "Primary streaming service        object\n",
              "Hours per day                   float64\n",
              "While working                    object\n",
              "Instrumentalist                  object\n",
              "Composer                         object\n",
              "Fav genre                        object\n",
              "Exploratory                      object\n",
              "Foreign languages                object\n",
              "BPM                             float64\n",
              "Frequency [Classical]            object\n",
              "Frequency [Country]              object\n",
              "Frequency [EDM]                  object\n",
              "Frequency [Folk]                 object\n",
              "Frequency [Gospel]               object\n",
              "Frequency [Hip hop]              object\n",
              "Frequency [Jazz]                 object\n",
              "Frequency [K pop]                object\n",
              "Frequency [Latin]                object\n",
              "Frequency [Lofi]                 object\n",
              "Frequency [Metal]                object\n",
              "Frequency [Pop]                  object\n",
              "Frequency [R&B]                  object\n",
              "Frequency [Rap]                  object\n",
              "Frequency [Rock]                 object\n",
              "Frequency [Video game music]     object\n",
              "Anxiety                         float64\n",
              "Depression                      float64\n",
              "Insomnia                        float64\n",
              "OCD                             float64\n",
              "Music effects                    object\n",
              "Permissions                      object\n",
              "dtype: object"
            ]
          },
          "metadata": {},
          "execution_count": 721
        }
      ]
    },
    {
      "cell_type": "markdown",
      "source": [
        "El conjunto de datos contiene 736 filas y 33 columnas:\n",
        "\n",
        "1.\t**Timestamp:** La fecha y hora en que se completó la encuesta\n",
        "2.\t**Age:** La edad del encuestado en años\n",
        "3.  **Primary streaming service:** El principal servicio de streaming que utiliza el encuestado\n",
        "4.  **Hours per day:** Número de horas que el encuestado escucha música al día\n",
        "5.  **While working:** Si el encuestado escucha música mientras trabaja\n",
        "6.  **Instrumentalist:** Si el encuestado toca un instrumento regularmente\n",
        "7.  **Composer:** Si el encuestado compone música\n",
        "8.  **Fav genre:** Género favorito del encuestado\n",
        "9.  **Exploratory:** Si el encuestado explora nuevos artistas o géneros\n",
        "10. **Foreign languages:** Si el encuestado escucha música con letras en un idioma que no domina\n",
        "11. **BPM:** Beats (número de pulsaciones) por minuto del género favorito del encuestado.\n",
        "12. **Frequency [Classical]:** Con qué frecuencia el encuestado escucha música clásica\n",
        "13. **Frequency [Country]:** Con qué frecuencia el encuestado escucha música country\n",
        "14. **Frequency [EDM]**: Con qué frecuencia el encuestado escucha música EDM\n",
        "15. **Frequency [Folk]:** Con qué frecuencia el encuestado escucha folk\n",
        "16. **Frequency [Gospel]:** Con qué frecuencia el encuestado escucha música gospel\n",
        "17. **Frequency [Hip hop]:** Con qué frecuencia el encuestado escucha hip hop\n",
        "18. **Frequency [Jazz]:** Con qué frecuencia el encuestado escucha jazz\n",
        "19. **Frequency [K pop]:** Con qué frecuencia el encuestado escucha k-pop\n",
        "20. **Frequency [Latin]:** Con qué frecuencia el encuestado escucha música latina\n",
        "21. **Frequency [Lofi]:** Con qué frecuencia el encuestado escucha lofi\n",
        "22. **Frequency [Metal]:** Con qué frecuencia el encuestado escucha metal\n",
        "23. **Frequency [Pop]:** Con qué frecuencia el encuestado escucha pop\n",
        "24. **Frequency [R&B]:** Con qué frecuencia el encuestado escucha R&B\n",
        "25. **Frequency [Rap]:** Con qué frecuencia el encuestado escucha rap\n",
        "26. **Frequency [Rock]:** Con qué frecuencia el encuestado escucha rock\n",
        "27. **Frequency [Video game music]:** Con qué frecuencia el encuestado escucha música de Video\n",
        "28. **Anxiety:** Ansiedad autoinformada. En una escala de 0-10 qué tanto siente ansioso el encuestado\n",
        "29. **Depression:** Depresión autoinformada. En una escala de 0-10 qué tanto se siente depresivo el encuestado\n",
        "30. **Insomnia:** Insomnio autoinformado. En una escala de 0-10 qué tanto insomnio padece el encuestado\n",
        "31. **OCD:** Síntomas de trastorno obsesivo compulsivo autoinformados. En una escala de 0-10 qué tantos síntomas de TOC padece el encuestado\n",
        "32. **Music effects:** Si el encuestado siente que la música mejora o empeora las condiciones de su salud mental \n",
        "33. **Permissions:** Consentimiento por parte del encuestado de hacer públicas sus respuestas"
      ],
      "metadata": {
        "id": "tJ4B5cg7dyvT"
      }
    },
    {
      "cell_type": "markdown",
      "source": [
        "**Limpio los datos**"
      ],
      "metadata": {
        "id": "5nXSBgg5F7ed"
      }
    },
    {
      "cell_type": "code",
      "source": [
        "# Elimino la columna \"Permissions\" porque no me proporciona un uso relevante\n",
        "df = df.drop(columns=[\"Permissions\", \"Timestamp\"])"
      ],
      "metadata": {
        "id": "DmZvqXzhiH0K"
      },
      "execution_count": null,
      "outputs": []
    },
    {
      "cell_type": "code",
      "source": [
        "# Verifico si hay filas duplicadas, si los hubiese, los duplicados se eliminarán directamente del conjunto original sin crear una copia\n",
        "duplicados = df.duplicated()\n",
        "print(duplicados)\n",
        "df.drop_duplicates(inplace=True)"
      ],
      "metadata": {
        "colab": {
          "base_uri": "https://localhost:8080/"
        },
        "id": "1krZD3RZtH2N",
        "outputId": "477236c8-5a47-4233-de54-2922cba0831e"
      },
      "execution_count": null,
      "outputs": [
        {
          "output_type": "stream",
          "name": "stdout",
          "text": [
            "0      False\n",
            "1      False\n",
            "2      False\n",
            "3      False\n",
            "4      False\n",
            "       ...  \n",
            "731    False\n",
            "732    False\n",
            "733    False\n",
            "734    False\n",
            "735    False\n",
            "Length: 736, dtype: bool\n"
          ]
        }
      ]
    },
    {
      "cell_type": "code",
      "source": [
        "# Elimino todas las filas que contengan al menos un valor faltante (NaN)\n",
        "df = df.dropna()"
      ],
      "metadata": {
        "id": "_0mLp6eRtsqn"
      },
      "execution_count": null,
      "outputs": []
    },
    {
      "cell_type": "code",
      "source": [
        "# Verifico que los valores de las columnas categoricas (objeto) sean consistentes y no posean errores\n",
        "for col in df.select_dtypes(include=['object']): # (!) itero a través de cada columna object\n",
        "  unique_values = df[col].unique() # (!)  reviso los valores únicos en cada columna object\n",
        "  unique_values.sort()\n",
        "print(f\"Valores únicos en la columna {col}:\") # (!) f para insertar el nombre de la columna\n",
        "print(unique_values)\n",
        "\n",
        "# Corrijo cualquier error tipográfico   \n",
        "df[col] = df[col].str.lower()\n",
        "print(df)"
      ],
      "metadata": {
        "colab": {
          "base_uri": "https://localhost:8080/"
        },
        "id": "evZ12ceQ9PiM",
        "outputId": "c69cc642-a2c4-4ae7-ff18-59806ab500dc"
      },
      "execution_count": null,
      "outputs": [
        {
          "output_type": "stream",
          "name": "stdout",
          "text": [
            "Valores únicos en la columna Music effects:\n",
            "['Improve' 'No effect' 'Worsen']\n",
            "      Age Primary streaming service  Hours per day While working  \\\n",
            "2    18.0                   Spotify            4.0            No   \n",
            "3    61.0             YouTube Music            2.5           Yes   \n",
            "4    18.0                   Spotify            4.0           Yes   \n",
            "5    18.0                   Spotify            5.0           Yes   \n",
            "6    18.0             YouTube Music            3.0           Yes   \n",
            "..    ...                       ...            ...           ...   \n",
            "731  17.0                   Spotify            2.0           Yes   \n",
            "732  18.0                   Spotify            1.0           Yes   \n",
            "733  19.0   Other streaming service            6.0           Yes   \n",
            "734  19.0                   Spotify            5.0           Yes   \n",
            "735  29.0             YouTube Music            2.0           Yes   \n",
            "\n",
            "    Instrumentalist Composer         Fav genre Exploratory Foreign languages  \\\n",
            "2                No       No  Video game music          No               Yes   \n",
            "3                No      Yes              Jazz         Yes               Yes   \n",
            "4                No       No               R&B         Yes                No   \n",
            "5               Yes      Yes              Jazz         Yes               Yes   \n",
            "6               Yes       No  Video game music         Yes               Yes   \n",
            "..              ...      ...               ...         ...               ...   \n",
            "731             Yes       No              Rock         Yes               Yes   \n",
            "732             Yes       No               Pop         Yes               Yes   \n",
            "733              No      Yes               Rap         Yes                No   \n",
            "734             Yes       No         Classical          No                No   \n",
            "735              No       No           Hip hop         Yes               Yes   \n",
            "\n",
            "       BPM  ...  Frequency [Pop]  Frequency [R&B]  Frequency [Rap]  \\\n",
            "2    132.0  ...           Rarely            Never           Rarely   \n",
            "3     84.0  ...        Sometimes        Sometimes            Never   \n",
            "4    107.0  ...        Sometimes  Very frequently  Very frequently   \n",
            "5     86.0  ...  Very frequently  Very frequently  Very frequently   \n",
            "6     66.0  ...           Rarely           Rarely            Never   \n",
            "..     ...  ...              ...              ...              ...   \n",
            "731  120.0  ...  Very frequently            Never           Rarely   \n",
            "732  160.0  ...  Very frequently            Never            Never   \n",
            "733  120.0  ...        Sometimes        Sometimes        Sometimes   \n",
            "734  170.0  ...            Never            Never            Never   \n",
            "735   98.0  ...        Sometimes  Very frequently  Very frequently   \n",
            "\n",
            "    Frequency [Rock] Frequency [Video game music] Anxiety Depression Insomnia  \\\n",
            "2             Rarely              Very frequently     7.0        7.0     10.0   \n",
            "3              Never                        Never     9.0        7.0      3.0   \n",
            "4              Never                       Rarely     7.0        2.0      5.0   \n",
            "5    Very frequently                        Never     8.0        8.0      7.0   \n",
            "6              Never                    Sometimes     4.0        8.0      6.0   \n",
            "..               ...                          ...     ...        ...      ...   \n",
            "731  Very frequently                        Never     7.0        6.0      0.0   \n",
            "732        Sometimes                    Sometimes     3.0        2.0      2.0   \n",
            "733           Rarely                       Rarely     2.0        2.0      2.0   \n",
            "734            Never                    Sometimes     2.0        3.0      2.0   \n",
            "735  Very frequently                       Rarely     2.0        2.0      2.0   \n",
            "\n",
            "     OCD Music effects  \n",
            "2    2.0     no effect  \n",
            "3    3.0       improve  \n",
            "4    9.0       improve  \n",
            "5    7.0       improve  \n",
            "6    0.0       improve  \n",
            "..   ...           ...  \n",
            "731  9.0       improve  \n",
            "732  5.0       improve  \n",
            "733  2.0       improve  \n",
            "734  1.0       improve  \n",
            "735  5.0       improve  \n",
            "\n",
            "[616 rows x 31 columns]\n"
          ]
        },
        {
          "output_type": "stream",
          "name": "stderr",
          "text": [
            "<ipython-input-725-aa1cc36a3263>:9: SettingWithCopyWarning: \n",
            "A value is trying to be set on a copy of a slice from a DataFrame.\n",
            "Try using .loc[row_indexer,col_indexer] = value instead\n",
            "\n",
            "See the caveats in the documentation: https://pandas.pydata.org/pandas-docs/stable/user_guide/indexing.html#returning-a-view-versus-a-copy\n",
            "  df[col] = df[col].str.lower()\n"
          ]
        }
      ]
    },
    {
      "cell_type": "code",
      "source": [
        "# Convierto las columnas de tipo \"object\" en variables numéricas antes de usarlas como entrada en la red neuronal\n",
        "from sklearn.preprocessing import LabelEncoder\n",
        "object_columns = df.select_dtypes(include='object').columns #Selecciono únicamente las columnas object\n",
        "le = LabelEncoder() #Convierto cada columna object en numérica utilizando LabelEncoder()\n",
        "for col in object_columns:\n",
        "    df[col] = le.fit_transform(df[col])"
      ],
      "metadata": {
        "colab": {
          "base_uri": "https://localhost:8080/"
        },
        "id": "wCUDRSA8qpZc",
        "outputId": "3fca9ebf-e2d7-4f1f-da29-6acaaae02906"
      },
      "execution_count": null,
      "outputs": [
        {
          "output_type": "stream",
          "name": "stderr",
          "text": [
            "<ipython-input-726-622dd3ca05cb>:6: SettingWithCopyWarning: \n",
            "A value is trying to be set on a copy of a slice from a DataFrame.\n",
            "Try using .loc[row_indexer,col_indexer] = value instead\n",
            "\n",
            "See the caveats in the documentation: https://pandas.pydata.org/pandas-docs/stable/user_guide/indexing.html#returning-a-view-versus-a-copy\n",
            "  df[col] = le.fit_transform(df[col])\n",
            "<ipython-input-726-622dd3ca05cb>:6: SettingWithCopyWarning: \n",
            "A value is trying to be set on a copy of a slice from a DataFrame.\n",
            "Try using .loc[row_indexer,col_indexer] = value instead\n",
            "\n",
            "See the caveats in the documentation: https://pandas.pydata.org/pandas-docs/stable/user_guide/indexing.html#returning-a-view-versus-a-copy\n",
            "  df[col] = le.fit_transform(df[col])\n",
            "<ipython-input-726-622dd3ca05cb>:6: SettingWithCopyWarning: \n",
            "A value is trying to be set on a copy of a slice from a DataFrame.\n",
            "Try using .loc[row_indexer,col_indexer] = value instead\n",
            "\n",
            "See the caveats in the documentation: https://pandas.pydata.org/pandas-docs/stable/user_guide/indexing.html#returning-a-view-versus-a-copy\n",
            "  df[col] = le.fit_transform(df[col])\n",
            "<ipython-input-726-622dd3ca05cb>:6: SettingWithCopyWarning: \n",
            "A value is trying to be set on a copy of a slice from a DataFrame.\n",
            "Try using .loc[row_indexer,col_indexer] = value instead\n",
            "\n",
            "See the caveats in the documentation: https://pandas.pydata.org/pandas-docs/stable/user_guide/indexing.html#returning-a-view-versus-a-copy\n",
            "  df[col] = le.fit_transform(df[col])\n",
            "<ipython-input-726-622dd3ca05cb>:6: SettingWithCopyWarning: \n",
            "A value is trying to be set on a copy of a slice from a DataFrame.\n",
            "Try using .loc[row_indexer,col_indexer] = value instead\n",
            "\n",
            "See the caveats in the documentation: https://pandas.pydata.org/pandas-docs/stable/user_guide/indexing.html#returning-a-view-versus-a-copy\n",
            "  df[col] = le.fit_transform(df[col])\n",
            "<ipython-input-726-622dd3ca05cb>:6: SettingWithCopyWarning: \n",
            "A value is trying to be set on a copy of a slice from a DataFrame.\n",
            "Try using .loc[row_indexer,col_indexer] = value instead\n",
            "\n",
            "See the caveats in the documentation: https://pandas.pydata.org/pandas-docs/stable/user_guide/indexing.html#returning-a-view-versus-a-copy\n",
            "  df[col] = le.fit_transform(df[col])\n",
            "<ipython-input-726-622dd3ca05cb>:6: SettingWithCopyWarning: \n",
            "A value is trying to be set on a copy of a slice from a DataFrame.\n",
            "Try using .loc[row_indexer,col_indexer] = value instead\n",
            "\n",
            "See the caveats in the documentation: https://pandas.pydata.org/pandas-docs/stable/user_guide/indexing.html#returning-a-view-versus-a-copy\n",
            "  df[col] = le.fit_transform(df[col])\n",
            "<ipython-input-726-622dd3ca05cb>:6: SettingWithCopyWarning: \n",
            "A value is trying to be set on a copy of a slice from a DataFrame.\n",
            "Try using .loc[row_indexer,col_indexer] = value instead\n",
            "\n",
            "See the caveats in the documentation: https://pandas.pydata.org/pandas-docs/stable/user_guide/indexing.html#returning-a-view-versus-a-copy\n",
            "  df[col] = le.fit_transform(df[col])\n",
            "<ipython-input-726-622dd3ca05cb>:6: SettingWithCopyWarning: \n",
            "A value is trying to be set on a copy of a slice from a DataFrame.\n",
            "Try using .loc[row_indexer,col_indexer] = value instead\n",
            "\n",
            "See the caveats in the documentation: https://pandas.pydata.org/pandas-docs/stable/user_guide/indexing.html#returning-a-view-versus-a-copy\n",
            "  df[col] = le.fit_transform(df[col])\n",
            "<ipython-input-726-622dd3ca05cb>:6: SettingWithCopyWarning: \n",
            "A value is trying to be set on a copy of a slice from a DataFrame.\n",
            "Try using .loc[row_indexer,col_indexer] = value instead\n",
            "\n",
            "See the caveats in the documentation: https://pandas.pydata.org/pandas-docs/stable/user_guide/indexing.html#returning-a-view-versus-a-copy\n",
            "  df[col] = le.fit_transform(df[col])\n",
            "<ipython-input-726-622dd3ca05cb>:6: SettingWithCopyWarning: \n",
            "A value is trying to be set on a copy of a slice from a DataFrame.\n",
            "Try using .loc[row_indexer,col_indexer] = value instead\n",
            "\n",
            "See the caveats in the documentation: https://pandas.pydata.org/pandas-docs/stable/user_guide/indexing.html#returning-a-view-versus-a-copy\n",
            "  df[col] = le.fit_transform(df[col])\n",
            "<ipython-input-726-622dd3ca05cb>:6: SettingWithCopyWarning: \n",
            "A value is trying to be set on a copy of a slice from a DataFrame.\n",
            "Try using .loc[row_indexer,col_indexer] = value instead\n",
            "\n",
            "See the caveats in the documentation: https://pandas.pydata.org/pandas-docs/stable/user_guide/indexing.html#returning-a-view-versus-a-copy\n",
            "  df[col] = le.fit_transform(df[col])\n",
            "<ipython-input-726-622dd3ca05cb>:6: SettingWithCopyWarning: \n",
            "A value is trying to be set on a copy of a slice from a DataFrame.\n",
            "Try using .loc[row_indexer,col_indexer] = value instead\n",
            "\n",
            "See the caveats in the documentation: https://pandas.pydata.org/pandas-docs/stable/user_guide/indexing.html#returning-a-view-versus-a-copy\n",
            "  df[col] = le.fit_transform(df[col])\n",
            "<ipython-input-726-622dd3ca05cb>:6: SettingWithCopyWarning: \n",
            "A value is trying to be set on a copy of a slice from a DataFrame.\n",
            "Try using .loc[row_indexer,col_indexer] = value instead\n",
            "\n",
            "See the caveats in the documentation: https://pandas.pydata.org/pandas-docs/stable/user_guide/indexing.html#returning-a-view-versus-a-copy\n",
            "  df[col] = le.fit_transform(df[col])\n",
            "<ipython-input-726-622dd3ca05cb>:6: SettingWithCopyWarning: \n",
            "A value is trying to be set on a copy of a slice from a DataFrame.\n",
            "Try using .loc[row_indexer,col_indexer] = value instead\n",
            "\n",
            "See the caveats in the documentation: https://pandas.pydata.org/pandas-docs/stable/user_guide/indexing.html#returning-a-view-versus-a-copy\n",
            "  df[col] = le.fit_transform(df[col])\n",
            "<ipython-input-726-622dd3ca05cb>:6: SettingWithCopyWarning: \n",
            "A value is trying to be set on a copy of a slice from a DataFrame.\n",
            "Try using .loc[row_indexer,col_indexer] = value instead\n",
            "\n",
            "See the caveats in the documentation: https://pandas.pydata.org/pandas-docs/stable/user_guide/indexing.html#returning-a-view-versus-a-copy\n",
            "  df[col] = le.fit_transform(df[col])\n",
            "<ipython-input-726-622dd3ca05cb>:6: SettingWithCopyWarning: \n",
            "A value is trying to be set on a copy of a slice from a DataFrame.\n",
            "Try using .loc[row_indexer,col_indexer] = value instead\n",
            "\n",
            "See the caveats in the documentation: https://pandas.pydata.org/pandas-docs/stable/user_guide/indexing.html#returning-a-view-versus-a-copy\n",
            "  df[col] = le.fit_transform(df[col])\n",
            "<ipython-input-726-622dd3ca05cb>:6: SettingWithCopyWarning: \n",
            "A value is trying to be set on a copy of a slice from a DataFrame.\n",
            "Try using .loc[row_indexer,col_indexer] = value instead\n",
            "\n",
            "See the caveats in the documentation: https://pandas.pydata.org/pandas-docs/stable/user_guide/indexing.html#returning-a-view-versus-a-copy\n",
            "  df[col] = le.fit_transform(df[col])\n",
            "<ipython-input-726-622dd3ca05cb>:6: SettingWithCopyWarning: \n",
            "A value is trying to be set on a copy of a slice from a DataFrame.\n",
            "Try using .loc[row_indexer,col_indexer] = value instead\n",
            "\n",
            "See the caveats in the documentation: https://pandas.pydata.org/pandas-docs/stable/user_guide/indexing.html#returning-a-view-versus-a-copy\n",
            "  df[col] = le.fit_transform(df[col])\n",
            "<ipython-input-726-622dd3ca05cb>:6: SettingWithCopyWarning: \n",
            "A value is trying to be set on a copy of a slice from a DataFrame.\n",
            "Try using .loc[row_indexer,col_indexer] = value instead\n",
            "\n",
            "See the caveats in the documentation: https://pandas.pydata.org/pandas-docs/stable/user_guide/indexing.html#returning-a-view-versus-a-copy\n",
            "  df[col] = le.fit_transform(df[col])\n",
            "<ipython-input-726-622dd3ca05cb>:6: SettingWithCopyWarning: \n",
            "A value is trying to be set on a copy of a slice from a DataFrame.\n",
            "Try using .loc[row_indexer,col_indexer] = value instead\n",
            "\n",
            "See the caveats in the documentation: https://pandas.pydata.org/pandas-docs/stable/user_guide/indexing.html#returning-a-view-versus-a-copy\n",
            "  df[col] = le.fit_transform(df[col])\n",
            "<ipython-input-726-622dd3ca05cb>:6: SettingWithCopyWarning: \n",
            "A value is trying to be set on a copy of a slice from a DataFrame.\n",
            "Try using .loc[row_indexer,col_indexer] = value instead\n",
            "\n",
            "See the caveats in the documentation: https://pandas.pydata.org/pandas-docs/stable/user_guide/indexing.html#returning-a-view-versus-a-copy\n",
            "  df[col] = le.fit_transform(df[col])\n",
            "<ipython-input-726-622dd3ca05cb>:6: SettingWithCopyWarning: \n",
            "A value is trying to be set on a copy of a slice from a DataFrame.\n",
            "Try using .loc[row_indexer,col_indexer] = value instead\n",
            "\n",
            "See the caveats in the documentation: https://pandas.pydata.org/pandas-docs/stable/user_guide/indexing.html#returning-a-view-versus-a-copy\n",
            "  df[col] = le.fit_transform(df[col])\n",
            "<ipython-input-726-622dd3ca05cb>:6: SettingWithCopyWarning: \n",
            "A value is trying to be set on a copy of a slice from a DataFrame.\n",
            "Try using .loc[row_indexer,col_indexer] = value instead\n",
            "\n",
            "See the caveats in the documentation: https://pandas.pydata.org/pandas-docs/stable/user_guide/indexing.html#returning-a-view-versus-a-copy\n",
            "  df[col] = le.fit_transform(df[col])\n"
          ]
        }
      ]
    },
    {
      "cell_type": "code",
      "source": [
        "# Utilizo la función \"MinMaxScales\" de la librería \"sklearn\" para normalizar los datos del dataframe\n",
        "## (!!!) La normalización de datos implica transformar las características de un conjunto de datos para que tengan una escala común. \n",
        "### Cuando se utiliza un modelo de red neuronal (librería Keras), se suele normalizar únicamente las columnas con valores numéricos. \n",
        "#### Los normalizo entonces, porque 1) los modelos de redes neuronales funcionan mejor con datos que estén en un rango similar\n",
        "##### y 2) porque así me aseguro de que cada característica tenga un peso igual en el análisis. \n",
        "from sklearn.preprocessing import MinMaxScaler\n",
        "scaler = MinMaxScaler()\n",
        "df_numeric = df.select_dtypes(include='number')\n",
        "normalized_data = scaler.fit_transform(df_numeric)\n",
        "df_normalized = pd.DataFrame(normalized_data, columns=df_numeric.columns)\n",
        "df = pd.concat([df.drop(df_numeric.columns, axis=1), df_normalized], axis=1)\n"
      ],
      "metadata": {
        "id": "TjYbCxeZqi3r"
      },
      "execution_count": null,
      "outputs": []
    },
    {
      "cell_type": "code",
      "source": [
        "# Finalmente, siendo que la librería Keras requiere que las columnas sean de tipo float32 para poder trabajar con ellas \n",
        "## en operaciones matemáticas (de una forma más rápida y eficiente), transformo todas los datos en float32.\n",
        "df = df.astype(\"float32\")\n",
        "df.dtypes\n"
      ],
      "metadata": {
        "colab": {
          "base_uri": "https://localhost:8080/"
        },
        "id": "Yy2SXuDWA7y5",
        "outputId": "c167d85c-cccd-46f1-cf8e-924321e1ff3e"
      },
      "execution_count": null,
      "outputs": [
        {
          "output_type": "execute_result",
          "data": {
            "text/plain": [
              "Age                             float32\n",
              "Primary streaming service       float32\n",
              "Hours per day                   float32\n",
              "While working                   float32\n",
              "Instrumentalist                 float32\n",
              "Composer                        float32\n",
              "Fav genre                       float32\n",
              "Exploratory                     float32\n",
              "Foreign languages               float32\n",
              "BPM                             float32\n",
              "Frequency [Classical]           float32\n",
              "Frequency [Country]             float32\n",
              "Frequency [EDM]                 float32\n",
              "Frequency [Folk]                float32\n",
              "Frequency [Gospel]              float32\n",
              "Frequency [Hip hop]             float32\n",
              "Frequency [Jazz]                float32\n",
              "Frequency [K pop]               float32\n",
              "Frequency [Latin]               float32\n",
              "Frequency [Lofi]                float32\n",
              "Frequency [Metal]               float32\n",
              "Frequency [Pop]                 float32\n",
              "Frequency [R&B]                 float32\n",
              "Frequency [Rap]                 float32\n",
              "Frequency [Rock]                float32\n",
              "Frequency [Video game music]    float32\n",
              "Anxiety                         float32\n",
              "Depression                      float32\n",
              "Insomnia                        float32\n",
              "OCD                             float32\n",
              "Music effects                   float32\n",
              "dtype: object"
            ]
          },
          "metadata": {},
          "execution_count": 728
        }
      ]
    },
    {
      "cell_type": "code",
      "source": [
        "# Indico nuevamente las dimensiones de la matriz \n",
        "df.shape\n"
      ],
      "metadata": {
        "colab": {
          "base_uri": "https://localhost:8080/"
        },
        "id": "6N-1PEXrGqkY",
        "outputId": "8ded1027-b335-4059-8f74-7193a19abfdb"
      },
      "execution_count": null,
      "outputs": [
        {
          "output_type": "execute_result",
          "data": {
            "text/plain": [
              "(721, 31)"
            ]
          },
          "metadata": {},
          "execution_count": 729
        }
      ]
    },
    {
      "cell_type": "code",
      "source": [
        "# Observo el conjunto final con el que voy a trabajar\n",
        "df.head()"
      ],
      "metadata": {
        "colab": {
          "base_uri": "https://localhost:8080/"
        },
        "id": "tJAh1sPfGr6G",
        "outputId": "2f6981ef-ca19-42f5-facf-332e322fe7d4"
      },
      "execution_count": null,
      "outputs": [
        {
          "output_type": "execute_result",
          "data": {
            "text/plain": [
              "        Age  Primary streaming service  Hours per day  While working  \\\n",
              "2  0.101266                        0.8       0.166667            1.0   \n",
              "3  0.101266                        0.8       0.208333            1.0   \n",
              "4  0.101266                        1.0       0.125000            1.0   \n",
              "5  0.139241                        0.8       0.041667            1.0   \n",
              "6  0.113924                        0.8       0.250000            1.0   \n",
              "\n",
              "   Instrumentalist  Composer  Fav genre  Exploratory  Foreign languages  \\\n",
              "2              0.0       0.0   0.800000          1.0                0.0   \n",
              "3              1.0       1.0   0.400000          1.0                1.0   \n",
              "4              1.0       0.0   1.000000          1.0                1.0   \n",
              "5              0.0       0.0   0.466667          1.0                1.0   \n",
              "6              0.0       0.0   0.933333          0.0                0.0   \n",
              "\n",
              "            BPM  ...  Frequency [Pop]  Frequency [R&B]  Frequency [Rap]  \\\n",
              "2  1.070000e-07  ...         0.666667         1.000000         1.000000   \n",
              "3  8.600000e-08  ...         1.000000         1.000000         1.000000   \n",
              "4  6.600000e-08  ...         0.333333         0.333333         0.000000   \n",
              "5  9.500000e-08  ...         0.666667         0.666667         0.333333   \n",
              "6  9.400000e-08  ...         0.000000         0.000000         0.000000   \n",
              "\n",
              "   Frequency [Rock]  Frequency [Video game music]  Anxiety  Depression  \\\n",
              "2               0.0                      0.333333      0.7         0.2   \n",
              "3               1.0                      0.000000      0.8         0.8   \n",
              "4               0.0                      0.666667      0.4         0.8   \n",
              "5               0.0                      0.333333      0.5         0.3   \n",
              "6               1.0                      0.000000      0.2         0.0   \n",
              "\n",
              "   Insomnia  OCD  Music effects  \n",
              "2       0.5  0.9            0.0  \n",
              "3       0.7  0.7            0.0  \n",
              "4       0.6  0.0            0.0  \n",
              "5       0.5  0.3            0.0  \n",
              "6       0.0  0.0            0.0  \n",
              "\n",
              "[5 rows x 31 columns]"
            ],
            "text/html": [
              "\n",
              "  <div id=\"df-99043a8c-69fc-45cb-9564-11c89b70f3b8\">\n",
              "    <div class=\"colab-df-container\">\n",
              "      <div>\n",
              "<style scoped>\n",
              "    .dataframe tbody tr th:only-of-type {\n",
              "        vertical-align: middle;\n",
              "    }\n",
              "\n",
              "    .dataframe tbody tr th {\n",
              "        vertical-align: top;\n",
              "    }\n",
              "\n",
              "    .dataframe thead th {\n",
              "        text-align: right;\n",
              "    }\n",
              "</style>\n",
              "<table border=\"1\" class=\"dataframe\">\n",
              "  <thead>\n",
              "    <tr style=\"text-align: right;\">\n",
              "      <th></th>\n",
              "      <th>Age</th>\n",
              "      <th>Primary streaming service</th>\n",
              "      <th>Hours per day</th>\n",
              "      <th>While working</th>\n",
              "      <th>Instrumentalist</th>\n",
              "      <th>Composer</th>\n",
              "      <th>Fav genre</th>\n",
              "      <th>Exploratory</th>\n",
              "      <th>Foreign languages</th>\n",
              "      <th>BPM</th>\n",
              "      <th>...</th>\n",
              "      <th>Frequency [Pop]</th>\n",
              "      <th>Frequency [R&amp;B]</th>\n",
              "      <th>Frequency [Rap]</th>\n",
              "      <th>Frequency [Rock]</th>\n",
              "      <th>Frequency [Video game music]</th>\n",
              "      <th>Anxiety</th>\n",
              "      <th>Depression</th>\n",
              "      <th>Insomnia</th>\n",
              "      <th>OCD</th>\n",
              "      <th>Music effects</th>\n",
              "    </tr>\n",
              "  </thead>\n",
              "  <tbody>\n",
              "    <tr>\n",
              "      <th>2</th>\n",
              "      <td>0.101266</td>\n",
              "      <td>0.8</td>\n",
              "      <td>0.166667</td>\n",
              "      <td>1.0</td>\n",
              "      <td>0.0</td>\n",
              "      <td>0.0</td>\n",
              "      <td>0.800000</td>\n",
              "      <td>1.0</td>\n",
              "      <td>0.0</td>\n",
              "      <td>1.070000e-07</td>\n",
              "      <td>...</td>\n",
              "      <td>0.666667</td>\n",
              "      <td>1.000000</td>\n",
              "      <td>1.000000</td>\n",
              "      <td>0.0</td>\n",
              "      <td>0.333333</td>\n",
              "      <td>0.7</td>\n",
              "      <td>0.2</td>\n",
              "      <td>0.5</td>\n",
              "      <td>0.9</td>\n",
              "      <td>0.0</td>\n",
              "    </tr>\n",
              "    <tr>\n",
              "      <th>3</th>\n",
              "      <td>0.101266</td>\n",
              "      <td>0.8</td>\n",
              "      <td>0.208333</td>\n",
              "      <td>1.0</td>\n",
              "      <td>1.0</td>\n",
              "      <td>1.0</td>\n",
              "      <td>0.400000</td>\n",
              "      <td>1.0</td>\n",
              "      <td>1.0</td>\n",
              "      <td>8.600000e-08</td>\n",
              "      <td>...</td>\n",
              "      <td>1.000000</td>\n",
              "      <td>1.000000</td>\n",
              "      <td>1.000000</td>\n",
              "      <td>1.0</td>\n",
              "      <td>0.000000</td>\n",
              "      <td>0.8</td>\n",
              "      <td>0.8</td>\n",
              "      <td>0.7</td>\n",
              "      <td>0.7</td>\n",
              "      <td>0.0</td>\n",
              "    </tr>\n",
              "    <tr>\n",
              "      <th>4</th>\n",
              "      <td>0.101266</td>\n",
              "      <td>1.0</td>\n",
              "      <td>0.125000</td>\n",
              "      <td>1.0</td>\n",
              "      <td>1.0</td>\n",
              "      <td>0.0</td>\n",
              "      <td>1.000000</td>\n",
              "      <td>1.0</td>\n",
              "      <td>1.0</td>\n",
              "      <td>6.600000e-08</td>\n",
              "      <td>...</td>\n",
              "      <td>0.333333</td>\n",
              "      <td>0.333333</td>\n",
              "      <td>0.000000</td>\n",
              "      <td>0.0</td>\n",
              "      <td>0.666667</td>\n",
              "      <td>0.4</td>\n",
              "      <td>0.8</td>\n",
              "      <td>0.6</td>\n",
              "      <td>0.0</td>\n",
              "      <td>0.0</td>\n",
              "    </tr>\n",
              "    <tr>\n",
              "      <th>5</th>\n",
              "      <td>0.139241</td>\n",
              "      <td>0.8</td>\n",
              "      <td>0.041667</td>\n",
              "      <td>1.0</td>\n",
              "      <td>0.0</td>\n",
              "      <td>0.0</td>\n",
              "      <td>0.466667</td>\n",
              "      <td>1.0</td>\n",
              "      <td>1.0</td>\n",
              "      <td>9.500000e-08</td>\n",
              "      <td>...</td>\n",
              "      <td>0.666667</td>\n",
              "      <td>0.666667</td>\n",
              "      <td>0.333333</td>\n",
              "      <td>0.0</td>\n",
              "      <td>0.333333</td>\n",
              "      <td>0.5</td>\n",
              "      <td>0.3</td>\n",
              "      <td>0.5</td>\n",
              "      <td>0.3</td>\n",
              "      <td>0.0</td>\n",
              "    </tr>\n",
              "    <tr>\n",
              "      <th>6</th>\n",
              "      <td>0.113924</td>\n",
              "      <td>0.8</td>\n",
              "      <td>0.250000</td>\n",
              "      <td>1.0</td>\n",
              "      <td>0.0</td>\n",
              "      <td>0.0</td>\n",
              "      <td>0.933333</td>\n",
              "      <td>0.0</td>\n",
              "      <td>0.0</td>\n",
              "      <td>9.400000e-08</td>\n",
              "      <td>...</td>\n",
              "      <td>0.000000</td>\n",
              "      <td>0.000000</td>\n",
              "      <td>0.000000</td>\n",
              "      <td>1.0</td>\n",
              "      <td>0.000000</td>\n",
              "      <td>0.2</td>\n",
              "      <td>0.0</td>\n",
              "      <td>0.0</td>\n",
              "      <td>0.0</td>\n",
              "      <td>0.0</td>\n",
              "    </tr>\n",
              "  </tbody>\n",
              "</table>\n",
              "<p>5 rows × 31 columns</p>\n",
              "</div>\n",
              "      <button class=\"colab-df-convert\" onclick=\"convertToInteractive('df-99043a8c-69fc-45cb-9564-11c89b70f3b8')\"\n",
              "              title=\"Convert this dataframe to an interactive table.\"\n",
              "              style=\"display:none;\">\n",
              "        \n",
              "  <svg xmlns=\"http://www.w3.org/2000/svg\" height=\"24px\"viewBox=\"0 0 24 24\"\n",
              "       width=\"24px\">\n",
              "    <path d=\"M0 0h24v24H0V0z\" fill=\"none\"/>\n",
              "    <path d=\"M18.56 5.44l.94 2.06.94-2.06 2.06-.94-2.06-.94-.94-2.06-.94 2.06-2.06.94zm-11 1L8.5 8.5l.94-2.06 2.06-.94-2.06-.94L8.5 2.5l-.94 2.06-2.06.94zm10 10l.94 2.06.94-2.06 2.06-.94-2.06-.94-.94-2.06-.94 2.06-2.06.94z\"/><path d=\"M17.41 7.96l-1.37-1.37c-.4-.4-.92-.59-1.43-.59-.52 0-1.04.2-1.43.59L10.3 9.45l-7.72 7.72c-.78.78-.78 2.05 0 2.83L4 21.41c.39.39.9.59 1.41.59.51 0 1.02-.2 1.41-.59l7.78-7.78 2.81-2.81c.8-.78.8-2.07 0-2.86zM5.41 20L4 18.59l7.72-7.72 1.47 1.35L5.41 20z\"/>\n",
              "  </svg>\n",
              "      </button>\n",
              "      \n",
              "  <style>\n",
              "    .colab-df-container {\n",
              "      display:flex;\n",
              "      flex-wrap:wrap;\n",
              "      gap: 12px;\n",
              "    }\n",
              "\n",
              "    .colab-df-convert {\n",
              "      background-color: #E8F0FE;\n",
              "      border: none;\n",
              "      border-radius: 50%;\n",
              "      cursor: pointer;\n",
              "      display: none;\n",
              "      fill: #1967D2;\n",
              "      height: 32px;\n",
              "      padding: 0 0 0 0;\n",
              "      width: 32px;\n",
              "    }\n",
              "\n",
              "    .colab-df-convert:hover {\n",
              "      background-color: #E2EBFA;\n",
              "      box-shadow: 0px 1px 2px rgba(60, 64, 67, 0.3), 0px 1px 3px 1px rgba(60, 64, 67, 0.15);\n",
              "      fill: #174EA6;\n",
              "    }\n",
              "\n",
              "    [theme=dark] .colab-df-convert {\n",
              "      background-color: #3B4455;\n",
              "      fill: #D2E3FC;\n",
              "    }\n",
              "\n",
              "    [theme=dark] .colab-df-convert:hover {\n",
              "      background-color: #434B5C;\n",
              "      box-shadow: 0px 1px 3px 1px rgba(0, 0, 0, 0.15);\n",
              "      filter: drop-shadow(0px 1px 2px rgba(0, 0, 0, 0.3));\n",
              "      fill: #FFFFFF;\n",
              "    }\n",
              "  </style>\n",
              "\n",
              "      <script>\n",
              "        const buttonEl =\n",
              "          document.querySelector('#df-99043a8c-69fc-45cb-9564-11c89b70f3b8 button.colab-df-convert');\n",
              "        buttonEl.style.display =\n",
              "          google.colab.kernel.accessAllowed ? 'block' : 'none';\n",
              "\n",
              "        async function convertToInteractive(key) {\n",
              "          const element = document.querySelector('#df-99043a8c-69fc-45cb-9564-11c89b70f3b8');\n",
              "          const dataTable =\n",
              "            await google.colab.kernel.invokeFunction('convertToInteractive',\n",
              "                                                     [key], {});\n",
              "          if (!dataTable) return;\n",
              "\n",
              "          const docLinkHtml = 'Like what you see? Visit the ' +\n",
              "            '<a target=\"_blank\" href=https://colab.research.google.com/notebooks/data_table.ipynb>data table notebook</a>'\n",
              "            + ' to learn more about interactive tables.';\n",
              "          element.innerHTML = '';\n",
              "          dataTable['output_type'] = 'display_data';\n",
              "          await google.colab.output.renderOutput(dataTable, element);\n",
              "          const docLink = document.createElement('div');\n",
              "          docLink.innerHTML = docLinkHtml;\n",
              "          element.appendChild(docLink);\n",
              "        }\n",
              "      </script>\n",
              "    </div>\n",
              "  </div>\n",
              "  "
            ]
          },
          "metadata": {},
          "execution_count": 730
        }
      ]
    },
    {
      "cell_type": "markdown",
      "source": [
        "**----------------------------------------------------------------------------------** \n",
        "# **Red Neuronal V1**"
      ],
      "metadata": {
        "id": "x0hAHEYOH0im"
      }
    },
    {
      "cell_type": "code",
      "source": [
        "!pip install tensorflow\n",
        "!pip install keras\n"
      ],
      "metadata": {
        "colab": {
          "base_uri": "https://localhost:8080/"
        },
        "id": "bRIi7jPbyWna",
        "outputId": "843415a2-2c3d-49f9-f9fd-ad113d5d5aab"
      },
      "execution_count": null,
      "outputs": [
        {
          "output_type": "stream",
          "name": "stdout",
          "text": [
            "Looking in indexes: https://pypi.org/simple, https://us-python.pkg.dev/colab-wheels/public/simple/\n",
            "Requirement already satisfied: tensorflow in /usr/local/lib/python3.10/dist-packages (2.12.0)\n",
            "Requirement already satisfied: typing-extensions>=3.6.6 in /usr/local/lib/python3.10/dist-packages (from tensorflow) (4.5.0)\n",
            "Requirement already satisfied: tensorflow-io-gcs-filesystem>=0.23.1 in /usr/local/lib/python3.10/dist-packages (from tensorflow) (0.32.0)\n",
            "Requirement already satisfied: setuptools in /usr/local/lib/python3.10/dist-packages (from tensorflow) (67.7.2)\n",
            "Requirement already satisfied: termcolor>=1.1.0 in /usr/local/lib/python3.10/dist-packages (from tensorflow) (2.3.0)\n",
            "Requirement already satisfied: h5py>=2.9.0 in /usr/local/lib/python3.10/dist-packages (from tensorflow) (3.8.0)\n",
            "Requirement already satisfied: astunparse>=1.6.0 in /usr/local/lib/python3.10/dist-packages (from tensorflow) (1.6.3)\n",
            "Requirement already satisfied: grpcio<2.0,>=1.24.3 in /usr/local/lib/python3.10/dist-packages (from tensorflow) (1.54.0)\n",
            "Requirement already satisfied: libclang>=13.0.0 in /usr/local/lib/python3.10/dist-packages (from tensorflow) (16.0.0)\n",
            "Requirement already satisfied: wrapt<1.15,>=1.11.0 in /usr/local/lib/python3.10/dist-packages (from tensorflow) (1.14.1)\n",
            "Requirement already satisfied: keras<2.13,>=2.12.0 in /usr/local/lib/python3.10/dist-packages (from tensorflow) (2.12.0)\n",
            "Requirement already satisfied: numpy<1.24,>=1.22 in /usr/local/lib/python3.10/dist-packages (from tensorflow) (1.22.4)\n",
            "Requirement already satisfied: gast<=0.4.0,>=0.2.1 in /usr/local/lib/python3.10/dist-packages (from tensorflow) (0.4.0)\n",
            "Requirement already satisfied: google-pasta>=0.1.1 in /usr/local/lib/python3.10/dist-packages (from tensorflow) (0.2.0)\n",
            "Requirement already satisfied: tensorflow-estimator<2.13,>=2.12.0 in /usr/local/lib/python3.10/dist-packages (from tensorflow) (2.12.0)\n",
            "Requirement already satisfied: six>=1.12.0 in /usr/local/lib/python3.10/dist-packages (from tensorflow) (1.16.0)\n",
            "Requirement already satisfied: tensorboard<2.13,>=2.12 in /usr/local/lib/python3.10/dist-packages (from tensorflow) (2.12.2)\n",
            "Requirement already satisfied: jax>=0.3.15 in /usr/local/lib/python3.10/dist-packages (from tensorflow) (0.4.8)\n",
            "Requirement already satisfied: packaging in /usr/local/lib/python3.10/dist-packages (from tensorflow) (23.1)\n",
            "Requirement already satisfied: absl-py>=1.0.0 in /usr/local/lib/python3.10/dist-packages (from tensorflow) (1.4.0)\n",
            "Requirement already satisfied: flatbuffers>=2.0 in /usr/local/lib/python3.10/dist-packages (from tensorflow) (23.3.3)\n",
            "Requirement already satisfied: protobuf!=4.21.0,!=4.21.1,!=4.21.2,!=4.21.3,!=4.21.4,!=4.21.5,<5.0.0dev,>=3.20.3 in /usr/local/lib/python3.10/dist-packages (from tensorflow) (3.20.3)\n",
            "Requirement already satisfied: opt-einsum>=2.3.2 in /usr/local/lib/python3.10/dist-packages (from tensorflow) (3.3.0)\n",
            "Requirement already satisfied: wheel<1.0,>=0.23.0 in /usr/local/lib/python3.10/dist-packages (from astunparse>=1.6.0->tensorflow) (0.40.0)\n",
            "Requirement already satisfied: ml-dtypes>=0.0.3 in /usr/local/lib/python3.10/dist-packages (from jax>=0.3.15->tensorflow) (0.1.0)\n",
            "Requirement already satisfied: scipy>=1.7 in /usr/local/lib/python3.10/dist-packages (from jax>=0.3.15->tensorflow) (1.10.1)\n",
            "Requirement already satisfied: markdown>=2.6.8 in /usr/local/lib/python3.10/dist-packages (from tensorboard<2.13,>=2.12->tensorflow) (3.4.3)\n",
            "Requirement already satisfied: tensorboard-data-server<0.8.0,>=0.7.0 in /usr/local/lib/python3.10/dist-packages (from tensorboard<2.13,>=2.12->tensorflow) (0.7.0)\n",
            "Requirement already satisfied: werkzeug>=1.0.1 in /usr/local/lib/python3.10/dist-packages (from tensorboard<2.13,>=2.12->tensorflow) (2.3.0)\n",
            "Requirement already satisfied: requests<3,>=2.21.0 in /usr/local/lib/python3.10/dist-packages (from tensorboard<2.13,>=2.12->tensorflow) (2.27.1)\n",
            "Requirement already satisfied: tensorboard-plugin-wit>=1.6.0 in /usr/local/lib/python3.10/dist-packages (from tensorboard<2.13,>=2.12->tensorflow) (1.8.1)\n",
            "Requirement already satisfied: google-auth-oauthlib<1.1,>=0.5 in /usr/local/lib/python3.10/dist-packages (from tensorboard<2.13,>=2.12->tensorflow) (1.0.0)\n",
            "Requirement already satisfied: google-auth<3,>=1.6.3 in /usr/local/lib/python3.10/dist-packages (from tensorboard<2.13,>=2.12->tensorflow) (2.17.3)\n",
            "Requirement already satisfied: cachetools<6.0,>=2.0.0 in /usr/local/lib/python3.10/dist-packages (from google-auth<3,>=1.6.3->tensorboard<2.13,>=2.12->tensorflow) (5.3.0)\n",
            "Requirement already satisfied: rsa<5,>=3.1.4 in /usr/local/lib/python3.10/dist-packages (from google-auth<3,>=1.6.3->tensorboard<2.13,>=2.12->tensorflow) (4.9)\n",
            "Requirement already satisfied: pyasn1-modules>=0.2.1 in /usr/local/lib/python3.10/dist-packages (from google-auth<3,>=1.6.3->tensorboard<2.13,>=2.12->tensorflow) (0.3.0)\n",
            "Requirement already satisfied: requests-oauthlib>=0.7.0 in /usr/local/lib/python3.10/dist-packages (from google-auth-oauthlib<1.1,>=0.5->tensorboard<2.13,>=2.12->tensorflow) (1.3.1)\n",
            "Requirement already satisfied: charset-normalizer~=2.0.0 in /usr/local/lib/python3.10/dist-packages (from requests<3,>=2.21.0->tensorboard<2.13,>=2.12->tensorflow) (2.0.12)\n",
            "Requirement already satisfied: certifi>=2017.4.17 in /usr/local/lib/python3.10/dist-packages (from requests<3,>=2.21.0->tensorboard<2.13,>=2.12->tensorflow) (2022.12.7)\n",
            "Requirement already satisfied: urllib3<1.27,>=1.21.1 in /usr/local/lib/python3.10/dist-packages (from requests<3,>=2.21.0->tensorboard<2.13,>=2.12->tensorflow) (1.26.15)\n",
            "Requirement already satisfied: idna<4,>=2.5 in /usr/local/lib/python3.10/dist-packages (from requests<3,>=2.21.0->tensorboard<2.13,>=2.12->tensorflow) (3.4)\n",
            "Requirement already satisfied: MarkupSafe>=2.1.1 in /usr/local/lib/python3.10/dist-packages (from werkzeug>=1.0.1->tensorboard<2.13,>=2.12->tensorflow) (2.1.2)\n",
            "Requirement already satisfied: pyasn1<0.6.0,>=0.4.6 in /usr/local/lib/python3.10/dist-packages (from pyasn1-modules>=0.2.1->google-auth<3,>=1.6.3->tensorboard<2.13,>=2.12->tensorflow) (0.5.0)\n",
            "Requirement already satisfied: oauthlib>=3.0.0 in /usr/local/lib/python3.10/dist-packages (from requests-oauthlib>=0.7.0->google-auth-oauthlib<1.1,>=0.5->tensorboard<2.13,>=2.12->tensorflow) (3.2.2)\n",
            "Looking in indexes: https://pypi.org/simple, https://us-python.pkg.dev/colab-wheels/public/simple/\n",
            "Requirement already satisfied: keras in /usr/local/lib/python3.10/dist-packages (2.12.0)\n"
          ]
        }
      ]
    },
    {
      "cell_type": "markdown",
      "source": [
        "**División de los datos de entrada (x) y de salida (y)**"
      ],
      "metadata": {
        "id": "92ygvK26fRKQ"
      }
    },
    {
      "cell_type": "code",
      "source": [
        "#Elimino los NaN porque sino más adelante la pérdida en el conjunto de validación de una red neuronal será NaN\n",
        "df = df.dropna() "
      ],
      "metadata": {
        "id": "78FbWakghpDL"
      },
      "execution_count": null,
      "outputs": []
    },
    {
      "cell_type": "code",
      "source": [
        "#Realizo la división entre columna a predecir (Y) y predictoras (X)\n",
        "X = df[df.columns.drop('Music effects')]\n",
        "Y = pd.get_dummies(df['Music effects'], columns=['Music effects'])"
      ],
      "metadata": {
        "id": "MWcPKYEM6Urr"
      },
      "execution_count": null,
      "outputs": []
    },
    {
      "cell_type": "code",
      "source": [
        "# Verifico si hay valores NaN o infinitos en los datos de entrada\n",
        "\n",
        "import numpy as np \n",
        "\n",
        "print(np.isnan(X).sum())\n",
        "\n",
        "print(np.isinf(X).sum()) "
      ],
      "metadata": {
        "colab": {
          "base_uri": "https://localhost:8080/"
        },
        "id": "nhNzF_Aw2nCI",
        "outputId": "bad98d8c-1c51-4045-830b-0cd6cd9f9ec0"
      },
      "execution_count": null,
      "outputs": [
        {
          "output_type": "stream",
          "name": "stdout",
          "text": [
            "Age                             0\n",
            "Primary streaming service       0\n",
            "Hours per day                   0\n",
            "While working                   0\n",
            "Instrumentalist                 0\n",
            "Composer                        0\n",
            "Fav genre                       0\n",
            "Exploratory                     0\n",
            "Foreign languages               0\n",
            "BPM                             0\n",
            "Frequency [Classical]           0\n",
            "Frequency [Country]             0\n",
            "Frequency [EDM]                 0\n",
            "Frequency [Folk]                0\n",
            "Frequency [Gospel]              0\n",
            "Frequency [Hip hop]             0\n",
            "Frequency [Jazz]                0\n",
            "Frequency [K pop]               0\n",
            "Frequency [Latin]               0\n",
            "Frequency [Lofi]                0\n",
            "Frequency [Metal]               0\n",
            "Frequency [Pop]                 0\n",
            "Frequency [R&B]                 0\n",
            "Frequency [Rap]                 0\n",
            "Frequency [Rock]                0\n",
            "Frequency [Video game music]    0\n",
            "Anxiety                         0\n",
            "Depression                      0\n",
            "Insomnia                        0\n",
            "OCD                             0\n",
            "dtype: int64\n",
            "Age                             0\n",
            "Primary streaming service       0\n",
            "Hours per day                   0\n",
            "While working                   0\n",
            "Instrumentalist                 0\n",
            "Composer                        0\n",
            "Fav genre                       0\n",
            "Exploratory                     0\n",
            "Foreign languages               0\n",
            "BPM                             0\n",
            "Frequency [Classical]           0\n",
            "Frequency [Country]             0\n",
            "Frequency [EDM]                 0\n",
            "Frequency [Folk]                0\n",
            "Frequency [Gospel]              0\n",
            "Frequency [Hip hop]             0\n",
            "Frequency [Jazz]                0\n",
            "Frequency [K pop]               0\n",
            "Frequency [Latin]               0\n",
            "Frequency [Lofi]                0\n",
            "Frequency [Metal]               0\n",
            "Frequency [Pop]                 0\n",
            "Frequency [R&B]                 0\n",
            "Frequency [Rap]                 0\n",
            "Frequency [Rock]                0\n",
            "Frequency [Video game music]    0\n",
            "Anxiety                         0\n",
            "Depression                      0\n",
            "Insomnia                        0\n",
            "OCD                             0\n",
            "dtype: int64\n"
          ]
        }
      ]
    },
    {
      "cell_type": "code",
      "source": [
        "print(X.dtypes)"
      ],
      "metadata": {
        "colab": {
          "base_uri": "https://localhost:8080/"
        },
        "id": "xpEKTyYz7kDU",
        "outputId": "86314a5a-1490-456f-87fd-efc1d1213046"
      },
      "execution_count": null,
      "outputs": [
        {
          "output_type": "stream",
          "name": "stdout",
          "text": [
            "Age                             float32\n",
            "Primary streaming service       float32\n",
            "Hours per day                   float32\n",
            "While working                   float32\n",
            "Instrumentalist                 float32\n",
            "Composer                        float32\n",
            "Fav genre                       float32\n",
            "Exploratory                     float32\n",
            "Foreign languages               float32\n",
            "BPM                             float32\n",
            "Frequency [Classical]           float32\n",
            "Frequency [Country]             float32\n",
            "Frequency [EDM]                 float32\n",
            "Frequency [Folk]                float32\n",
            "Frequency [Gospel]              float32\n",
            "Frequency [Hip hop]             float32\n",
            "Frequency [Jazz]                float32\n",
            "Frequency [K pop]               float32\n",
            "Frequency [Latin]               float32\n",
            "Frequency [Lofi]                float32\n",
            "Frequency [Metal]               float32\n",
            "Frequency [Pop]                 float32\n",
            "Frequency [R&B]                 float32\n",
            "Frequency [Rap]                 float32\n",
            "Frequency [Rock]                float32\n",
            "Frequency [Video game music]    float32\n",
            "Anxiety                         float32\n",
            "Depression                      float32\n",
            "Insomnia                        float32\n",
            "OCD                             float32\n",
            "dtype: object\n"
          ]
        }
      ]
    },
    {
      "cell_type": "code",
      "source": [
        "#Para verificar el número de columnas\n",
        "#X.shape[1]\n",
        "#Y.shape[1]\n"
      ],
      "metadata": {
        "id": "lmwDVybvsBtq"
      },
      "execution_count": null,
      "outputs": []
    },
    {
      "cell_type": "markdown",
      "source": [
        "**Definición de la arquitectura del modelo**"
      ],
      "metadata": {
        "id": "7OK-0iqE74GG"
      }
    },
    {
      "cell_type": "code",
      "source": [
        "import tensorflow as tf\n",
        "from tensorflow import keras\n",
        "\n",
        "#Arquitectura del modelo elegida = modelo secuencial\n",
        "from keras import models\n",
        "from keras import layers\n",
        "model = models.Sequential()\n",
        "\n",
        "model.add(layers.Dense(64, activation='relu', input_shape=(X.shape[1],))) #Primer capa, capa oculta de 64 nodos full conectados, con una entrada igual a la longitud del vector\n",
        "model.add(layers.Dense(64, activation='relu')) #Segunda capa, capa oculta\n",
        "model.add(layers.Dense(Y.shape[1], activation='softmax')) #Tercer capa, capa de salida. Para para cada muestra de entrada (input sample), la red generará según el tamaño de la dimensión de la salida \n",
        "\n",
        "### ReLU (Rectified Linear Unit) = Para introducir no linealidad en las capas ocultas y así mejorar la capacidad de clasificación del modelo\n",
        "#### Softmax = Para producir salidas en forma de probabilidades distribuidas"
      ],
      "metadata": {
        "id": "JoOuDGXN0iXm"
      },
      "execution_count": null,
      "outputs": []
    },
    {
      "cell_type": "code",
      "source": [
        "#Resumen del modelo de red neuronal\n",
        "model.summary()"
      ],
      "metadata": {
        "colab": {
          "base_uri": "https://localhost:8080/"
        },
        "id": "uA1DmSySlOLx",
        "outputId": "91e166db-a76b-427a-ad16-7bf45b48da8b"
      },
      "execution_count": null,
      "outputs": [
        {
          "output_type": "stream",
          "name": "stdout",
          "text": [
            "Model: \"sequential_27\"\n",
            "_________________________________________________________________\n",
            " Layer (type)                Output Shape              Param #   \n",
            "=================================================================\n",
            " dense_72 (Dense)            (None, 64)                1984      \n",
            "                                                                 \n",
            " dense_73 (Dense)            (None, 64)                4160      \n",
            "                                                                 \n",
            " dense_74 (Dense)            (None, 3)                 195       \n",
            "                                                                 \n",
            "=================================================================\n",
            "Total params: 6,339\n",
            "Trainable params: 6,339\n",
            "Non-trainable params: 0\n",
            "_________________________________________________________________\n"
          ]
        }
      ]
    },
    {
      "cell_type": "markdown",
      "source": [
        "**Proceso de Aprendizaje**\n",
        "\n",
        "Para el entrenamiento es necesario:\n",
        "1. **Función perdida (loss function)** para medir el rendimiento\n",
        "2. **Optimizador (optimizer)** para que la red neuronal se vaya actualizando según el loss function y los datos\n",
        "3. **Métricas (metrics)** para monitorear el entrenamiento y las pruebas. En este caso, será accuracy (verificación de si las clasificaciones hechas son correctas o no)"
      ],
      "metadata": {
        "id": "gcFGV9va7u16"
      }
    },
    {
      "cell_type": "code",
      "source": [
        "from keras import optimizers\n",
        "from keras import losses\n",
        "from keras import metrics\n",
        "\n",
        "\n",
        "model.compile(optimizer=optimizers.RMSprop(lr=0.001), #Optimizador RMSprop con una tasa de aprendizaje (learning rate) a 0.001 \n",
        "\n",
        "### Si la tasa de aprendizaje es demasiado pequeña, el modelo puede tardar mucho tiempo en converger hacia una solución óptima. \n",
        "#### Si la tasa de aprendizaje es demasiado grande, el modelo puede oscilar o divergir lejos de una solución óptima.\n",
        "\n",
        "loss=losses.categorical_crossentropy, #Función perdida de entropía cruzada categórica (categorical crossentropy) porque es un problema de clasificación\n",
        "\n",
        "metrics=[metrics.categorical_accuracy]) #Métrica de precisión categórica (categorical accuracy)"
      ],
      "metadata": {
        "colab": {
          "base_uri": "https://localhost:8080/"
        },
        "id": "YzltGbZK7AIf",
        "outputId": "3137b1be-0614-4283-bd03-2fb3086cf024"
      },
      "execution_count": null,
      "outputs": [
        {
          "output_type": "stream",
          "name": "stderr",
          "text": [
            "/usr/local/lib/python3.10/dist-packages/keras/optimizers/legacy/rmsprop.py:143: UserWarning: The `lr` argument is deprecated, use `learning_rate` instead.\n",
            "  super().__init__(name, **kwargs)\n"
          ]
        }
      ]
    },
    {
      "cell_type": "markdown",
      "source": [
        "**Preparación del conjunto de validación**\n",
        "\n",
        "Para evaluar el rendimiento de un modelo de aprendizaje automático durante su entrenamiento."
      ],
      "metadata": {
        "id": "SW2GHk0Ut90W"
      }
    },
    {
      "cell_type": "code",
      "source": [
        "# Divido un conjunto de datos en un conjunto de entrenamiento y un conjunto de validación \n",
        "\n",
        "x_val = X[:100] #Conjunto de validación = primeras 100 filas de los datos de entrada X\n",
        "partial_x_train = X[100:] #Conjunto de entrenamiento = todas las filas de los datos de entrada X excepto las primeras 100 filas\n",
        "\n",
        "y_val = Y[:100] #Conjunto de validación = primeras 100 filas de los datos de salida Y\n",
        "partial_y_train = Y[100:] #Conjunto de entrenamiento = todas las filas de los datos de entrada X excepto las primeras 100 filas\n",
        "\n",
        "### En general, se recomienda que el tamaño del conjunto de validación esté en el rango del 10% al 30% del tamaño total del conjunto de datos. \n",
        "####  Entonces, teniendo 721 filas podría considerar un conjunto de validación de alrededor de 72 a 216 ejemplos\n",
        "\n"
      ],
      "metadata": {
        "id": "HJck5mWNZZJj"
      },
      "execution_count": null,
      "outputs": []
    },
    {
      "cell_type": "markdown",
      "source": [
        "**Entrenamiento del modelo**"
      ],
      "metadata": {
        "id": "i0SsjH5Lls7h"
      }
    },
    {
      "cell_type": "code",
      "source": [
        "#Entreno el modelo utilizando los conjuntos de entrenamiento y validación definidos anteriormente\n",
        "\n",
        "history = model.fit(X, Y, batch_size=32, epochs=30, validation_split=0.3)\n",
        "          "
      ],
      "metadata": {
        "colab": {
          "base_uri": "https://localhost:8080/"
        },
        "id": "TAIQD34Alux-",
        "outputId": "14f4bb96-dc9d-47fe-dd49-cc27a88bd80e"
      },
      "execution_count": null,
      "outputs": [
        {
          "output_type": "stream",
          "name": "stdout",
          "text": [
            "Epoch 1/30\n",
            "14/14 [==============================] - 1s 24ms/step - loss: 0.8281 - categorical_accuracy: 0.7262 - val_loss: 0.6623 - val_categorical_accuracy: 0.7784\n",
            "Epoch 2/30\n",
            "14/14 [==============================] - 0s 7ms/step - loss: 0.6652 - categorical_accuracy: 0.7448 - val_loss: 0.6165 - val_categorical_accuracy: 0.7784\n",
            "Epoch 3/30\n",
            "14/14 [==============================] - 0s 6ms/step - loss: 0.6333 - categorical_accuracy: 0.7448 - val_loss: 0.6136 - val_categorical_accuracy: 0.7784\n",
            "Epoch 4/30\n",
            "14/14 [==============================] - 0s 6ms/step - loss: 0.6196 - categorical_accuracy: 0.7448 - val_loss: 0.6130 - val_categorical_accuracy: 0.7784\n",
            "Epoch 5/30\n",
            "14/14 [==============================] - 0s 5ms/step - loss: 0.6086 - categorical_accuracy: 0.7401 - val_loss: 0.6169 - val_categorical_accuracy: 0.7784\n",
            "Epoch 6/30\n",
            "14/14 [==============================] - 0s 5ms/step - loss: 0.6067 - categorical_accuracy: 0.7471 - val_loss: 0.6136 - val_categorical_accuracy: 0.7784\n",
            "Epoch 7/30\n",
            "14/14 [==============================] - 0s 6ms/step - loss: 0.5948 - categorical_accuracy: 0.7471 - val_loss: 0.6132 - val_categorical_accuracy: 0.7784\n",
            "Epoch 8/30\n",
            "14/14 [==============================] - 0s 7ms/step - loss: 0.5919 - categorical_accuracy: 0.7471 - val_loss: 0.6234 - val_categorical_accuracy: 0.7784\n",
            "Epoch 9/30\n",
            "14/14 [==============================] - 0s 5ms/step - loss: 0.5840 - categorical_accuracy: 0.7517 - val_loss: 0.6214 - val_categorical_accuracy: 0.7730\n",
            "Epoch 10/30\n",
            "14/14 [==============================] - 0s 6ms/step - loss: 0.5802 - categorical_accuracy: 0.7610 - val_loss: 0.6197 - val_categorical_accuracy: 0.7730\n",
            "Epoch 11/30\n",
            "14/14 [==============================] - 0s 7ms/step - loss: 0.5775 - categorical_accuracy: 0.7680 - val_loss: 0.6185 - val_categorical_accuracy: 0.7730\n",
            "Epoch 12/30\n",
            "14/14 [==============================] - 0s 6ms/step - loss: 0.5638 - categorical_accuracy: 0.7680 - val_loss: 0.6206 - val_categorical_accuracy: 0.7784\n",
            "Epoch 13/30\n",
            "14/14 [==============================] - 0s 5ms/step - loss: 0.5591 - categorical_accuracy: 0.7703 - val_loss: 0.6189 - val_categorical_accuracy: 0.7676\n",
            "Epoch 14/30\n",
            "14/14 [==============================] - 0s 7ms/step - loss: 0.5536 - categorical_accuracy: 0.7657 - val_loss: 0.6197 - val_categorical_accuracy: 0.7730\n",
            "Epoch 15/30\n",
            "14/14 [==============================] - 0s 8ms/step - loss: 0.5453 - categorical_accuracy: 0.7819 - val_loss: 0.6235 - val_categorical_accuracy: 0.7730\n",
            "Epoch 16/30\n",
            "14/14 [==============================] - 0s 8ms/step - loss: 0.5404 - categorical_accuracy: 0.7819 - val_loss: 0.6197 - val_categorical_accuracy: 0.7730\n",
            "Epoch 17/30\n",
            "14/14 [==============================] - 0s 8ms/step - loss: 0.5339 - categorical_accuracy: 0.7819 - val_loss: 0.6317 - val_categorical_accuracy: 0.7514\n",
            "Epoch 18/30\n",
            "14/14 [==============================] - 0s 5ms/step - loss: 0.5235 - categorical_accuracy: 0.7865 - val_loss: 0.6280 - val_categorical_accuracy: 0.7622\n",
            "Epoch 19/30\n",
            "14/14 [==============================] - 0s 5ms/step - loss: 0.5175 - categorical_accuracy: 0.7935 - val_loss: 0.6283 - val_categorical_accuracy: 0.7568\n",
            "Epoch 20/30\n",
            "14/14 [==============================] - 0s 6ms/step - loss: 0.5129 - categorical_accuracy: 0.7912 - val_loss: 0.6272 - val_categorical_accuracy: 0.7730\n",
            "Epoch 21/30\n",
            "14/14 [==============================] - 0s 5ms/step - loss: 0.5017 - categorical_accuracy: 0.7958 - val_loss: 0.6323 - val_categorical_accuracy: 0.7568\n",
            "Epoch 22/30\n",
            "14/14 [==============================] - 0s 6ms/step - loss: 0.4953 - categorical_accuracy: 0.7935 - val_loss: 0.6372 - val_categorical_accuracy: 0.7459\n",
            "Epoch 23/30\n",
            "14/14 [==============================] - 0s 5ms/step - loss: 0.4923 - categorical_accuracy: 0.8097 - val_loss: 0.6342 - val_categorical_accuracy: 0.7784\n",
            "Epoch 24/30\n",
            "14/14 [==============================] - 0s 5ms/step - loss: 0.4841 - categorical_accuracy: 0.8051 - val_loss: 0.6356 - val_categorical_accuracy: 0.7568\n",
            "Epoch 25/30\n",
            "14/14 [==============================] - 0s 5ms/step - loss: 0.4734 - categorical_accuracy: 0.8051 - val_loss: 0.6371 - val_categorical_accuracy: 0.7568\n",
            "Epoch 26/30\n",
            "14/14 [==============================] - 0s 6ms/step - loss: 0.4652 - categorical_accuracy: 0.8121 - val_loss: 0.6390 - val_categorical_accuracy: 0.7568\n",
            "Epoch 27/30\n",
            "14/14 [==============================] - 0s 5ms/step - loss: 0.4663 - categorical_accuracy: 0.8144 - val_loss: 0.6483 - val_categorical_accuracy: 0.7568\n",
            "Epoch 28/30\n",
            "14/14 [==============================] - 0s 6ms/step - loss: 0.4496 - categorical_accuracy: 0.8144 - val_loss: 0.6411 - val_categorical_accuracy: 0.7676\n",
            "Epoch 29/30\n",
            "14/14 [==============================] - 0s 6ms/step - loss: 0.4490 - categorical_accuracy: 0.8144 - val_loss: 0.6561 - val_categorical_accuracy: 0.7459\n",
            "Epoch 30/30\n",
            "14/14 [==============================] - 0s 5ms/step - loss: 0.4384 - categorical_accuracy: 0.8422 - val_loss: 0.6487 - val_categorical_accuracy: 0.7730\n"
          ]
        }
      ]
    },
    {
      "cell_type": "markdown",
      "source": [
        "**Visualizaciones**"
      ],
      "metadata": {
        "id": "OqgQ1Tz9yogo"
      }
    },
    {
      "cell_type": "code",
      "source": [
        "import matplotlib.pyplot as plt"
      ],
      "metadata": {
        "id": "vsMiaXh0zK5K"
      },
      "execution_count": null,
      "outputs": []
    },
    {
      "cell_type": "code",
      "source": [
        "model_history = pd.DataFrame(history.history)\n",
        "model_history"
      ],
      "metadata": {
        "colab": {
          "base_uri": "https://localhost:8080/",
          "height": 990
        },
        "id": "gc8HJvCyzdE4",
        "outputId": "f82dbebc-88d4-4ce1-d5d6-08eecccb004a"
      },
      "execution_count": null,
      "outputs": [
        {
          "output_type": "execute_result",
          "data": {
            "text/plain": [
              "        loss  categorical_accuracy  val_loss  val_categorical_accuracy\n",
              "0   0.828061              0.726218  0.662329                  0.778378\n",
              "1   0.665227              0.744780  0.616524                  0.778378\n",
              "2   0.633287              0.744780  0.613621                  0.778378\n",
              "3   0.619625              0.744780  0.613000                  0.778378\n",
              "4   0.608614              0.740139  0.616868                  0.778378\n",
              "5   0.606705              0.747100  0.613643                  0.778378\n",
              "6   0.594827              0.747100  0.613163                  0.778378\n",
              "7   0.591891              0.747100  0.623420                  0.778378\n",
              "8   0.583961              0.751740  0.621395                  0.772973\n",
              "9   0.580151              0.761021  0.619661                  0.772973\n",
              "10  0.577469              0.767981  0.618469                  0.772973\n",
              "11  0.563828              0.767981  0.620563                  0.778378\n",
              "12  0.559117              0.770302  0.618908                  0.767568\n",
              "13  0.553616              0.765661  0.619660                  0.772973\n",
              "14  0.545282              0.781903  0.623503                  0.772973\n",
              "15  0.540430              0.781903  0.619740                  0.772973\n",
              "16  0.533917              0.781903  0.631744                  0.751351\n",
              "17  0.523489              0.786543  0.628046                  0.762162\n",
              "18  0.517528              0.793503  0.628285                  0.756757\n",
              "19  0.512850              0.791183  0.627164                  0.772973\n",
              "20  0.501684              0.795824  0.632292                  0.756757\n",
              "21  0.495322              0.793503  0.637178                  0.745946\n",
              "22  0.492329              0.809745  0.634207                  0.778378\n",
              "23  0.484149              0.805104  0.635578                  0.756757\n",
              "24  0.473361              0.805104  0.637101                  0.756757\n",
              "25  0.465175              0.812065  0.638954                  0.756757\n",
              "26  0.466342              0.814385  0.648308                  0.756757\n",
              "27  0.449616              0.814385  0.641115                  0.767568\n",
              "28  0.448986              0.814385  0.656104                  0.745946\n",
              "29  0.438418              0.842227  0.648717                  0.772973"
            ],
            "text/html": [
              "\n",
              "  <div id=\"df-05a8c846-3b28-4a7c-a8b4-b79d4b20b657\">\n",
              "    <div class=\"colab-df-container\">\n",
              "      <div>\n",
              "<style scoped>\n",
              "    .dataframe tbody tr th:only-of-type {\n",
              "        vertical-align: middle;\n",
              "    }\n",
              "\n",
              "    .dataframe tbody tr th {\n",
              "        vertical-align: top;\n",
              "    }\n",
              "\n",
              "    .dataframe thead th {\n",
              "        text-align: right;\n",
              "    }\n",
              "</style>\n",
              "<table border=\"1\" class=\"dataframe\">\n",
              "  <thead>\n",
              "    <tr style=\"text-align: right;\">\n",
              "      <th></th>\n",
              "      <th>loss</th>\n",
              "      <th>categorical_accuracy</th>\n",
              "      <th>val_loss</th>\n",
              "      <th>val_categorical_accuracy</th>\n",
              "    </tr>\n",
              "  </thead>\n",
              "  <tbody>\n",
              "    <tr>\n",
              "      <th>0</th>\n",
              "      <td>0.828061</td>\n",
              "      <td>0.726218</td>\n",
              "      <td>0.662329</td>\n",
              "      <td>0.778378</td>\n",
              "    </tr>\n",
              "    <tr>\n",
              "      <th>1</th>\n",
              "      <td>0.665227</td>\n",
              "      <td>0.744780</td>\n",
              "      <td>0.616524</td>\n",
              "      <td>0.778378</td>\n",
              "    </tr>\n",
              "    <tr>\n",
              "      <th>2</th>\n",
              "      <td>0.633287</td>\n",
              "      <td>0.744780</td>\n",
              "      <td>0.613621</td>\n",
              "      <td>0.778378</td>\n",
              "    </tr>\n",
              "    <tr>\n",
              "      <th>3</th>\n",
              "      <td>0.619625</td>\n",
              "      <td>0.744780</td>\n",
              "      <td>0.613000</td>\n",
              "      <td>0.778378</td>\n",
              "    </tr>\n",
              "    <tr>\n",
              "      <th>4</th>\n",
              "      <td>0.608614</td>\n",
              "      <td>0.740139</td>\n",
              "      <td>0.616868</td>\n",
              "      <td>0.778378</td>\n",
              "    </tr>\n",
              "    <tr>\n",
              "      <th>5</th>\n",
              "      <td>0.606705</td>\n",
              "      <td>0.747100</td>\n",
              "      <td>0.613643</td>\n",
              "      <td>0.778378</td>\n",
              "    </tr>\n",
              "    <tr>\n",
              "      <th>6</th>\n",
              "      <td>0.594827</td>\n",
              "      <td>0.747100</td>\n",
              "      <td>0.613163</td>\n",
              "      <td>0.778378</td>\n",
              "    </tr>\n",
              "    <tr>\n",
              "      <th>7</th>\n",
              "      <td>0.591891</td>\n",
              "      <td>0.747100</td>\n",
              "      <td>0.623420</td>\n",
              "      <td>0.778378</td>\n",
              "    </tr>\n",
              "    <tr>\n",
              "      <th>8</th>\n",
              "      <td>0.583961</td>\n",
              "      <td>0.751740</td>\n",
              "      <td>0.621395</td>\n",
              "      <td>0.772973</td>\n",
              "    </tr>\n",
              "    <tr>\n",
              "      <th>9</th>\n",
              "      <td>0.580151</td>\n",
              "      <td>0.761021</td>\n",
              "      <td>0.619661</td>\n",
              "      <td>0.772973</td>\n",
              "    </tr>\n",
              "    <tr>\n",
              "      <th>10</th>\n",
              "      <td>0.577469</td>\n",
              "      <td>0.767981</td>\n",
              "      <td>0.618469</td>\n",
              "      <td>0.772973</td>\n",
              "    </tr>\n",
              "    <tr>\n",
              "      <th>11</th>\n",
              "      <td>0.563828</td>\n",
              "      <td>0.767981</td>\n",
              "      <td>0.620563</td>\n",
              "      <td>0.778378</td>\n",
              "    </tr>\n",
              "    <tr>\n",
              "      <th>12</th>\n",
              "      <td>0.559117</td>\n",
              "      <td>0.770302</td>\n",
              "      <td>0.618908</td>\n",
              "      <td>0.767568</td>\n",
              "    </tr>\n",
              "    <tr>\n",
              "      <th>13</th>\n",
              "      <td>0.553616</td>\n",
              "      <td>0.765661</td>\n",
              "      <td>0.619660</td>\n",
              "      <td>0.772973</td>\n",
              "    </tr>\n",
              "    <tr>\n",
              "      <th>14</th>\n",
              "      <td>0.545282</td>\n",
              "      <td>0.781903</td>\n",
              "      <td>0.623503</td>\n",
              "      <td>0.772973</td>\n",
              "    </tr>\n",
              "    <tr>\n",
              "      <th>15</th>\n",
              "      <td>0.540430</td>\n",
              "      <td>0.781903</td>\n",
              "      <td>0.619740</td>\n",
              "      <td>0.772973</td>\n",
              "    </tr>\n",
              "    <tr>\n",
              "      <th>16</th>\n",
              "      <td>0.533917</td>\n",
              "      <td>0.781903</td>\n",
              "      <td>0.631744</td>\n",
              "      <td>0.751351</td>\n",
              "    </tr>\n",
              "    <tr>\n",
              "      <th>17</th>\n",
              "      <td>0.523489</td>\n",
              "      <td>0.786543</td>\n",
              "      <td>0.628046</td>\n",
              "      <td>0.762162</td>\n",
              "    </tr>\n",
              "    <tr>\n",
              "      <th>18</th>\n",
              "      <td>0.517528</td>\n",
              "      <td>0.793503</td>\n",
              "      <td>0.628285</td>\n",
              "      <td>0.756757</td>\n",
              "    </tr>\n",
              "    <tr>\n",
              "      <th>19</th>\n",
              "      <td>0.512850</td>\n",
              "      <td>0.791183</td>\n",
              "      <td>0.627164</td>\n",
              "      <td>0.772973</td>\n",
              "    </tr>\n",
              "    <tr>\n",
              "      <th>20</th>\n",
              "      <td>0.501684</td>\n",
              "      <td>0.795824</td>\n",
              "      <td>0.632292</td>\n",
              "      <td>0.756757</td>\n",
              "    </tr>\n",
              "    <tr>\n",
              "      <th>21</th>\n",
              "      <td>0.495322</td>\n",
              "      <td>0.793503</td>\n",
              "      <td>0.637178</td>\n",
              "      <td>0.745946</td>\n",
              "    </tr>\n",
              "    <tr>\n",
              "      <th>22</th>\n",
              "      <td>0.492329</td>\n",
              "      <td>0.809745</td>\n",
              "      <td>0.634207</td>\n",
              "      <td>0.778378</td>\n",
              "    </tr>\n",
              "    <tr>\n",
              "      <th>23</th>\n",
              "      <td>0.484149</td>\n",
              "      <td>0.805104</td>\n",
              "      <td>0.635578</td>\n",
              "      <td>0.756757</td>\n",
              "    </tr>\n",
              "    <tr>\n",
              "      <th>24</th>\n",
              "      <td>0.473361</td>\n",
              "      <td>0.805104</td>\n",
              "      <td>0.637101</td>\n",
              "      <td>0.756757</td>\n",
              "    </tr>\n",
              "    <tr>\n",
              "      <th>25</th>\n",
              "      <td>0.465175</td>\n",
              "      <td>0.812065</td>\n",
              "      <td>0.638954</td>\n",
              "      <td>0.756757</td>\n",
              "    </tr>\n",
              "    <tr>\n",
              "      <th>26</th>\n",
              "      <td>0.466342</td>\n",
              "      <td>0.814385</td>\n",
              "      <td>0.648308</td>\n",
              "      <td>0.756757</td>\n",
              "    </tr>\n",
              "    <tr>\n",
              "      <th>27</th>\n",
              "      <td>0.449616</td>\n",
              "      <td>0.814385</td>\n",
              "      <td>0.641115</td>\n",
              "      <td>0.767568</td>\n",
              "    </tr>\n",
              "    <tr>\n",
              "      <th>28</th>\n",
              "      <td>0.448986</td>\n",
              "      <td>0.814385</td>\n",
              "      <td>0.656104</td>\n",
              "      <td>0.745946</td>\n",
              "    </tr>\n",
              "    <tr>\n",
              "      <th>29</th>\n",
              "      <td>0.438418</td>\n",
              "      <td>0.842227</td>\n",
              "      <td>0.648717</td>\n",
              "      <td>0.772973</td>\n",
              "    </tr>\n",
              "  </tbody>\n",
              "</table>\n",
              "</div>\n",
              "      <button class=\"colab-df-convert\" onclick=\"convertToInteractive('df-05a8c846-3b28-4a7c-a8b4-b79d4b20b657')\"\n",
              "              title=\"Convert this dataframe to an interactive table.\"\n",
              "              style=\"display:none;\">\n",
              "        \n",
              "  <svg xmlns=\"http://www.w3.org/2000/svg\" height=\"24px\"viewBox=\"0 0 24 24\"\n",
              "       width=\"24px\">\n",
              "    <path d=\"M0 0h24v24H0V0z\" fill=\"none\"/>\n",
              "    <path d=\"M18.56 5.44l.94 2.06.94-2.06 2.06-.94-2.06-.94-.94-2.06-.94 2.06-2.06.94zm-11 1L8.5 8.5l.94-2.06 2.06-.94-2.06-.94L8.5 2.5l-.94 2.06-2.06.94zm10 10l.94 2.06.94-2.06 2.06-.94-2.06-.94-.94-2.06-.94 2.06-2.06.94z\"/><path d=\"M17.41 7.96l-1.37-1.37c-.4-.4-.92-.59-1.43-.59-.52 0-1.04.2-1.43.59L10.3 9.45l-7.72 7.72c-.78.78-.78 2.05 0 2.83L4 21.41c.39.39.9.59 1.41.59.51 0 1.02-.2 1.41-.59l7.78-7.78 2.81-2.81c.8-.78.8-2.07 0-2.86zM5.41 20L4 18.59l7.72-7.72 1.47 1.35L5.41 20z\"/>\n",
              "  </svg>\n",
              "      </button>\n",
              "      \n",
              "  <style>\n",
              "    .colab-df-container {\n",
              "      display:flex;\n",
              "      flex-wrap:wrap;\n",
              "      gap: 12px;\n",
              "    }\n",
              "\n",
              "    .colab-df-convert {\n",
              "      background-color: #E8F0FE;\n",
              "      border: none;\n",
              "      border-radius: 50%;\n",
              "      cursor: pointer;\n",
              "      display: none;\n",
              "      fill: #1967D2;\n",
              "      height: 32px;\n",
              "      padding: 0 0 0 0;\n",
              "      width: 32px;\n",
              "    }\n",
              "\n",
              "    .colab-df-convert:hover {\n",
              "      background-color: #E2EBFA;\n",
              "      box-shadow: 0px 1px 2px rgba(60, 64, 67, 0.3), 0px 1px 3px 1px rgba(60, 64, 67, 0.15);\n",
              "      fill: #174EA6;\n",
              "    }\n",
              "\n",
              "    [theme=dark] .colab-df-convert {\n",
              "      background-color: #3B4455;\n",
              "      fill: #D2E3FC;\n",
              "    }\n",
              "\n",
              "    [theme=dark] .colab-df-convert:hover {\n",
              "      background-color: #434B5C;\n",
              "      box-shadow: 0px 1px 3px 1px rgba(0, 0, 0, 0.15);\n",
              "      filter: drop-shadow(0px 1px 2px rgba(0, 0, 0, 0.3));\n",
              "      fill: #FFFFFF;\n",
              "    }\n",
              "  </style>\n",
              "\n",
              "      <script>\n",
              "        const buttonEl =\n",
              "          document.querySelector('#df-05a8c846-3b28-4a7c-a8b4-b79d4b20b657 button.colab-df-convert');\n",
              "        buttonEl.style.display =\n",
              "          google.colab.kernel.accessAllowed ? 'block' : 'none';\n",
              "\n",
              "        async function convertToInteractive(key) {\n",
              "          const element = document.querySelector('#df-05a8c846-3b28-4a7c-a8b4-b79d4b20b657');\n",
              "          const dataTable =\n",
              "            await google.colab.kernel.invokeFunction('convertToInteractive',\n",
              "                                                     [key], {});\n",
              "          if (!dataTable) return;\n",
              "\n",
              "          const docLinkHtml = 'Like what you see? Visit the ' +\n",
              "            '<a target=\"_blank\" href=https://colab.research.google.com/notebooks/data_table.ipynb>data table notebook</a>'\n",
              "            + ' to learn more about interactive tables.';\n",
              "          element.innerHTML = '';\n",
              "          dataTable['output_type'] = 'display_data';\n",
              "          await google.colab.output.renderOutput(dataTable, element);\n",
              "          const docLink = document.createElement('div');\n",
              "          docLink.innerHTML = docLinkHtml;\n",
              "          element.appendChild(docLink);\n",
              "        }\n",
              "      </script>\n",
              "    </div>\n",
              "  </div>\n",
              "  "
            ]
          },
          "metadata": {},
          "execution_count": 743
        }
      ]
    },
    {
      "cell_type": "code",
      "source": [
        "# Precisión de entrenamiento y validación\n",
        "\n",
        "loss = history.history['loss']\n",
        "val_loss = history.history['val_loss']\n",
        "epochs = range(1, len(loss) + 1)\n",
        "plt.plot(epochs, loss, 'bo', label='Training loss')\n",
        "plt.plot(epochs, val_loss, 'b', label='Validation loss')\n",
        "plt.title('Training and validation loss')\n",
        "plt.xlabel('Epochs')\n",
        "plt.ylabel('Loss')\n",
        "plt.legend()\n",
        "plt.show()"
      ],
      "metadata": {
        "colab": {
          "base_uri": "https://localhost:8080/",
          "height": 472
        },
        "id": "1je6wewS8BIQ",
        "outputId": "1cb5428e-fb64-4c93-e128-f6defd382609"
      },
      "execution_count": null,
      "outputs": [
        {
          "output_type": "display_data",
          "data": {
            "text/plain": [
              "<Figure size 640x480 with 1 Axes>"
            ],
            "image/png": "[encoded data removed]"
          },
          "metadata": {}
        }
      ]
    },
    {
      "cell_type": "markdown",
      "source": [
        "**Evaluación del modelo**\n",
        "\n",
        "\n"
      ],
      "metadata": {
        "id": "MhTVMSaw0DCa"
      }
    },
    {
      "cell_type": "code",
      "source": [
        "model.evaluate(X, Y)"
      ],
      "metadata": {
        "colab": {
          "base_uri": "https://localhost:8080/"
        },
        "id": "GsWysOcu7y3-",
        "outputId": "b9556b28-bc03-4606-f188-f067cb5225d2"
      },
      "execution_count": null,
      "outputs": [
        {
          "output_type": "stream",
          "name": "stdout",
          "text": [
            "20/20 [==============================] - 0s 2ms/step - loss: 0.4908 - categorical_accuracy: 0.8084\n"
          ]
        },
        {
          "output_type": "execute_result",
          "data": {
            "text/plain": [
              "[0.4907650649547577, 0.8084415793418884]"
            ]
          },
          "metadata": {},
          "execution_count": 745
        }
      ]
    },
    {
      "cell_type": "markdown",
      "source": [
        "**Predicciones**"
      ],
      "metadata": {
        "id": "r86NVSPP0Nn_"
      }
    },
    {
      "cell_type": "code",
      "source": [
        "model.predict(X)"
      ],
      "metadata": {
        "colab": {
          "base_uri": "https://localhost:8080/"
        },
        "id": "Nyi_fi260QX7",
        "outputId": "6a26d51e-ceac-4606-aa85-6c4e60d43904"
      },
      "execution_count": null,
      "outputs": [
        {
          "output_type": "stream",
          "name": "stdout",
          "text": [
            "20/20 [==============================] - 0s 5ms/step\n"
          ]
        },
        {
          "output_type": "execute_result",
          "data": {
            "text/plain": [
              "array([[0.97926086, 0.01847828, 0.0022609 ],\n",
              "       [0.96493506, 0.03390468, 0.00116032],\n",
              "       [0.81554353, 0.15225315, 0.03220334],\n",
              "       ...,\n",
              "       [0.51505166, 0.47080824, 0.01414011],\n",
              "       [0.9724518 , 0.02559039, 0.00195776],\n",
              "       [0.9742932 , 0.02223549, 0.00347136]], dtype=float32)"
            ]
          },
          "metadata": {},
          "execution_count": 746
        }
      ]
    },
    {
      "cell_type": "markdown",
      "source": [
        "**----------------------------------------------------------------------------------** \n",
        "# **Red Neuronal V2**"
      ],
      "metadata": {
        "id": "T2wBcAt_EyIf"
      }
    },
    {
      "cell_type": "code",
      "source": [
        "!pip install tensorflow\n",
        "!pip install keras\n"
      ],
      "metadata": {
        "colab": {
          "base_uri": "https://localhost:8080/"
        },
        "outputId": "2c53954b-d93c-45f3-f40e-c6290cc92f8c",
        "id": "o--ffO1vEyIf"
      },
      "execution_count": null,
      "outputs": [
        {
          "output_type": "stream",
          "name": "stdout",
          "text": [
            "Looking in indexes: https://pypi.org/simple, https://us-python.pkg.dev/colab-wheels/public/simple/\n",
            "Requirement already satisfied: tensorflow in /usr/local/lib/python3.10/dist-packages (2.12.0)\n",
            "Requirement already satisfied: google-pasta>=0.1.1 in /usr/local/lib/python3.10/dist-packages (from tensorflow) (0.2.0)\n",
            "Requirement already satisfied: tensorflow-io-gcs-filesystem>=0.23.1 in /usr/local/lib/python3.10/dist-packages (from tensorflow) (0.32.0)\n",
            "Requirement already satisfied: numpy<1.24,>=1.22 in /usr/local/lib/python3.10/dist-packages (from tensorflow) (1.22.4)\n",
            "Requirement already satisfied: six>=1.12.0 in /usr/local/lib/python3.10/dist-packages (from tensorflow) (1.16.0)\n",
            "Requirement already satisfied: tensorboard<2.13,>=2.12 in /usr/local/lib/python3.10/dist-packages (from tensorflow) (2.12.2)\n",
            "Requirement already satisfied: setuptools in /usr/local/lib/python3.10/dist-packages (from tensorflow) (67.7.2)\n",
            "Requirement already satisfied: wrapt<1.15,>=1.11.0 in /usr/local/lib/python3.10/dist-packages (from tensorflow) (1.14.1)\n",
            "Requirement already satisfied: typing-extensions>=3.6.6 in /usr/local/lib/python3.10/dist-packages (from tensorflow) (4.5.0)\n",
            "Requirement already satisfied: gast<=0.4.0,>=0.2.1 in /usr/local/lib/python3.10/dist-packages (from tensorflow) (0.4.0)\n",
            "Requirement already satisfied: h5py>=2.9.0 in /usr/local/lib/python3.10/dist-packages (from tensorflow) (3.8.0)\n",
            "Requirement already satisfied: protobuf!=4.21.0,!=4.21.1,!=4.21.2,!=4.21.3,!=4.21.4,!=4.21.5,<5.0.0dev,>=3.20.3 in /usr/local/lib/python3.10/dist-packages (from tensorflow) (3.20.3)\n",
            "Requirement already satisfied: astunparse>=1.6.0 in /usr/local/lib/python3.10/dist-packages (from tensorflow) (1.6.3)\n",
            "Requirement already satisfied: jax>=0.3.15 in /usr/local/lib/python3.10/dist-packages (from tensorflow) (0.4.8)\n",
            "Requirement already satisfied: packaging in /usr/local/lib/python3.10/dist-packages (from tensorflow) (23.1)\n",
            "Requirement already satisfied: keras<2.13,>=2.12.0 in /usr/local/lib/python3.10/dist-packages (from tensorflow) (2.12.0)\n",
            "Requirement already satisfied: flatbuffers>=2.0 in /usr/local/lib/python3.10/dist-packages (from tensorflow) (23.3.3)\n",
            "Requirement already satisfied: grpcio<2.0,>=1.24.3 in /usr/local/lib/python3.10/dist-packages (from tensorflow) (1.54.0)\n",
            "Requirement already satisfied: tensorflow-estimator<2.13,>=2.12.0 in /usr/local/lib/python3.10/dist-packages (from tensorflow) (2.12.0)\n",
            "Requirement already satisfied: opt-einsum>=2.3.2 in /usr/local/lib/python3.10/dist-packages (from tensorflow) (3.3.0)\n",
            "Requirement already satisfied: termcolor>=1.1.0 in /usr/local/lib/python3.10/dist-packages (from tensorflow) (2.3.0)\n",
            "Requirement already satisfied: absl-py>=1.0.0 in /usr/local/lib/python3.10/dist-packages (from tensorflow) (1.4.0)\n",
            "Requirement already satisfied: libclang>=13.0.0 in /usr/local/lib/python3.10/dist-packages (from tensorflow) (16.0.0)\n",
            "Requirement already satisfied: wheel<1.0,>=0.23.0 in /usr/local/lib/python3.10/dist-packages (from astunparse>=1.6.0->tensorflow) (0.40.0)\n",
            "Requirement already satisfied: ml-dtypes>=0.0.3 in /usr/local/lib/python3.10/dist-packages (from jax>=0.3.15->tensorflow) (0.1.0)\n",
            "Requirement already satisfied: scipy>=1.7 in /usr/local/lib/python3.10/dist-packages (from jax>=0.3.15->tensorflow) (1.10.1)\n",
            "Requirement already satisfied: google-auth-oauthlib<1.1,>=0.5 in /usr/local/lib/python3.10/dist-packages (from tensorboard<2.13,>=2.12->tensorflow) (1.0.0)\n",
            "Requirement already satisfied: requests<3,>=2.21.0 in /usr/local/lib/python3.10/dist-packages (from tensorboard<2.13,>=2.12->tensorflow) (2.27.1)\n",
            "Requirement already satisfied: tensorboard-data-server<0.8.0,>=0.7.0 in /usr/local/lib/python3.10/dist-packages (from tensorboard<2.13,>=2.12->tensorflow) (0.7.0)\n",
            "Requirement already satisfied: werkzeug>=1.0.1 in /usr/local/lib/python3.10/dist-packages (from tensorboard<2.13,>=2.12->tensorflow) (2.3.0)\n",
            "Requirement already satisfied: google-auth<3,>=1.6.3 in /usr/local/lib/python3.10/dist-packages (from tensorboard<2.13,>=2.12->tensorflow) (2.17.3)\n",
            "Requirement already satisfied: tensorboard-plugin-wit>=1.6.0 in /usr/local/lib/python3.10/dist-packages (from tensorboard<2.13,>=2.12->tensorflow) (1.8.1)\n",
            "Requirement already satisfied: markdown>=2.6.8 in /usr/local/lib/python3.10/dist-packages (from tensorboard<2.13,>=2.12->tensorflow) (3.4.3)\n",
            "Requirement already satisfied: pyasn1-modules>=0.2.1 in /usr/local/lib/python3.10/dist-packages (from google-auth<3,>=1.6.3->tensorboard<2.13,>=2.12->tensorflow) (0.3.0)\n",
            "Requirement already satisfied: cachetools<6.0,>=2.0.0 in /usr/local/lib/python3.10/dist-packages (from google-auth<3,>=1.6.3->tensorboard<2.13,>=2.12->tensorflow) (5.3.0)\n",
            "Requirement already satisfied: rsa<5,>=3.1.4 in /usr/local/lib/python3.10/dist-packages (from google-auth<3,>=1.6.3->tensorboard<2.13,>=2.12->tensorflow) (4.9)\n",
            "Requirement already satisfied: requests-oauthlib>=0.7.0 in /usr/local/lib/python3.10/dist-packages (from google-auth-oauthlib<1.1,>=0.5->tensorboard<2.13,>=2.12->tensorflow) (1.3.1)\n",
            "Requirement already satisfied: idna<4,>=2.5 in /usr/local/lib/python3.10/dist-packages (from requests<3,>=2.21.0->tensorboard<2.13,>=2.12->tensorflow) (3.4)\n",
            "Requirement already satisfied: certifi>=2017.4.17 in /usr/local/lib/python3.10/dist-packages (from requests<3,>=2.21.0->tensorboard<2.13,>=2.12->tensorflow) (2022.12.7)\n",
            "Requirement already satisfied: urllib3<1.27,>=1.21.1 in /usr/local/lib/python3.10/dist-packages (from requests<3,>=2.21.0->tensorboard<2.13,>=2.12->tensorflow) (1.26.15)\n",
            "Requirement already satisfied: charset-normalizer~=2.0.0 in /usr/local/lib/python3.10/dist-packages (from requests<3,>=2.21.0->tensorboard<2.13,>=2.12->tensorflow) (2.0.12)\n",
            "Requirement already satisfied: MarkupSafe>=2.1.1 in /usr/local/lib/python3.10/dist-packages (from werkzeug>=1.0.1->tensorboard<2.13,>=2.12->tensorflow) (2.1.2)\n",
            "Requirement already satisfied: pyasn1<0.6.0,>=0.4.6 in /usr/local/lib/python3.10/dist-packages (from pyasn1-modules>=0.2.1->google-auth<3,>=1.6.3->tensorboard<2.13,>=2.12->tensorflow) (0.5.0)\n",
            "Requirement already satisfied: oauthlib>=3.0.0 in /usr/local/lib/python3.10/dist-packages (from requests-oauthlib>=0.7.0->google-auth-oauthlib<1.1,>=0.5->tensorboard<2.13,>=2.12->tensorflow) (3.2.2)\n",
            "Looking in indexes: https://pypi.org/simple, https://us-python.pkg.dev/colab-wheels/public/simple/\n",
            "Requirement already satisfied: keras in /usr/local/lib/python3.10/dist-packages (2.12.0)\n"
          ]
        }
      ]
    },
    {
      "cell_type": "markdown",
      "source": [
        "**División de los datos de entrada (x) y de salida (y)**"
      ],
      "metadata": {
        "id": "o9AjviX3EyIg"
      }
    },
    {
      "cell_type": "code",
      "source": [
        "#Elimino los NaN porque sino más adelante la pérdida en el conjunto de validación de una red neuronal será NaN\n",
        "df = df.dropna() "
      ],
      "metadata": {
        "id": "4Q7gD75wEyIg"
      },
      "execution_count": null,
      "outputs": []
    },
    {
      "cell_type": "code",
      "source": [
        "#Realizo la división entre columna a predecir (Y) y predictoras (X)\n",
        "X = df[df.columns.drop('Music effects')]\n",
        "Y = pd.get_dummies(df['Music effects'], columns=['Music effects'])"
      ],
      "metadata": {
        "id": "isCvpbYQEyIg"
      },
      "execution_count": null,
      "outputs": []
    },
    {
      "cell_type": "code",
      "source": [
        "# Verifico si hay valores NaN o infinitos en los datos de entrada\n",
        "import numpy as np  \n",
        "\n",
        "print(np.isnan(X).sum())\n",
        "\n",
        "print(np.isinf(X).sum())"
      ],
      "metadata": {
        "colab": {
          "base_uri": "https://localhost:8080/"
        },
        "outputId": "9026a2c7-ca6d-4a57-812c-2a6edbe7d709",
        "id": "-7bqKgz3EyIg"
      },
      "execution_count": null,
      "outputs": [
        {
          "output_type": "stream",
          "name": "stdout",
          "text": [
            "Age                             0\n",
            "Primary streaming service       0\n",
            "Hours per day                   0\n",
            "While working                   0\n",
            "Instrumentalist                 0\n",
            "Composer                        0\n",
            "Fav genre                       0\n",
            "Exploratory                     0\n",
            "Foreign languages               0\n",
            "BPM                             0\n",
            "Frequency [Classical]           0\n",
            "Frequency [Country]             0\n",
            "Frequency [EDM]                 0\n",
            "Frequency [Folk]                0\n",
            "Frequency [Gospel]              0\n",
            "Frequency [Hip hop]             0\n",
            "Frequency [Jazz]                0\n",
            "Frequency [K pop]               0\n",
            "Frequency [Latin]               0\n",
            "Frequency [Lofi]                0\n",
            "Frequency [Metal]               0\n",
            "Frequency [Pop]                 0\n",
            "Frequency [R&B]                 0\n",
            "Frequency [Rap]                 0\n",
            "Frequency [Rock]                0\n",
            "Frequency [Video game music]    0\n",
            "Anxiety                         0\n",
            "Depression                      0\n",
            "Insomnia                        0\n",
            "OCD                             0\n",
            "dtype: int64\n",
            "Age                             0\n",
            "Primary streaming service       0\n",
            "Hours per day                   0\n",
            "While working                   0\n",
            "Instrumentalist                 0\n",
            "Composer                        0\n",
            "Fav genre                       0\n",
            "Exploratory                     0\n",
            "Foreign languages               0\n",
            "BPM                             0\n",
            "Frequency [Classical]           0\n",
            "Frequency [Country]             0\n",
            "Frequency [EDM]                 0\n",
            "Frequency [Folk]                0\n",
            "Frequency [Gospel]              0\n",
            "Frequency [Hip hop]             0\n",
            "Frequency [Jazz]                0\n",
            "Frequency [K pop]               0\n",
            "Frequency [Latin]               0\n",
            "Frequency [Lofi]                0\n",
            "Frequency [Metal]               0\n",
            "Frequency [Pop]                 0\n",
            "Frequency [R&B]                 0\n",
            "Frequency [Rap]                 0\n",
            "Frequency [Rock]                0\n",
            "Frequency [Video game music]    0\n",
            "Anxiety                         0\n",
            "Depression                      0\n",
            "Insomnia                        0\n",
            "OCD                             0\n",
            "dtype: int64\n"
          ]
        }
      ]
    },
    {
      "cell_type": "code",
      "source": [
        "print(X.dtypes)"
      ],
      "metadata": {
        "colab": {
          "base_uri": "https://localhost:8080/"
        },
        "outputId": "6d090967-d619-4d31-c383-6219b0738c6d",
        "id": "eF6RFsRLEyIg"
      },
      "execution_count": null,
      "outputs": [
        {
          "output_type": "stream",
          "name": "stdout",
          "text": [
            "Age                             float32\n",
            "Primary streaming service       float32\n",
            "Hours per day                   float32\n",
            "While working                   float32\n",
            "Instrumentalist                 float32\n",
            "Composer                        float32\n",
            "Fav genre                       float32\n",
            "Exploratory                     float32\n",
            "Foreign languages               float32\n",
            "BPM                             float32\n",
            "Frequency [Classical]           float32\n",
            "Frequency [Country]             float32\n",
            "Frequency [EDM]                 float32\n",
            "Frequency [Folk]                float32\n",
            "Frequency [Gospel]              float32\n",
            "Frequency [Hip hop]             float32\n",
            "Frequency [Jazz]                float32\n",
            "Frequency [K pop]               float32\n",
            "Frequency [Latin]               float32\n",
            "Frequency [Lofi]                float32\n",
            "Frequency [Metal]               float32\n",
            "Frequency [Pop]                 float32\n",
            "Frequency [R&B]                 float32\n",
            "Frequency [Rap]                 float32\n",
            "Frequency [Rock]                float32\n",
            "Frequency [Video game music]    float32\n",
            "Anxiety                         float32\n",
            "Depression                      float32\n",
            "Insomnia                        float32\n",
            "OCD                             float32\n",
            "dtype: object\n"
          ]
        }
      ]
    },
    {
      "cell_type": "code",
      "source": [
        "#Para verificar el número de columnas\n",
        "#X.shape[1]\n",
        "#Y.shape[1]\n"
      ],
      "metadata": {
        "id": "G8jLeLvYEyIh"
      },
      "execution_count": null,
      "outputs": []
    },
    {
      "cell_type": "markdown",
      "source": [
        "**Definición de la arquitectura del modelo**"
      ],
      "metadata": {
        "id": "Ln4LLM_xEyIh"
      }
    },
    {
      "cell_type": "code",
      "source": [
        "import tensorflow as tf\n",
        "from tensorflow import keras\n",
        "\n",
        "#Arquitectura del modelo elegida = modelo secuencial\n",
        "from keras import models\n",
        "from keras import layers\n",
        "model = models.Sequential()\n",
        "\n",
        "model.add(layers.Dense(75, activation='relu', input_shape=(X.shape[1],))) #Primer capa, capa oculta de 64 nodos full conectados, con una entrada igual a la longitud del vector\n",
        "model.add(layers.Dense(75, activation='relu')) #Segunda capa, capa oculta\n",
        "model.add(layers.Dense(Y.shape[1], activation='softmax')) #Tercer capa, capa de salida. Para para cada muestra de entrada (input sample), la red generará según el tamaño de la dimensión de la salida \n",
        "\n",
        "### ReLU (Rectified Linear Unit) = Para introducir no linealidad en las capas ocultas y así mejorar la capacidad de clasificación del modelo\n",
        "#### Softmax = Para producir salidas en forma de probabilidades distribuidas"
      ],
      "metadata": {
        "id": "WI9aJ8b-EyIh"
      },
      "execution_count": null,
      "outputs": []
    },
    {
      "cell_type": "code",
      "source": [
        "#Resumen del modelo de red neuronal\n",
        "model.summary()"
      ],
      "metadata": {
        "colab": {
          "base_uri": "https://localhost:8080/"
        },
        "outputId": "ea56203e-7e4e-484c-98da-25397c6c30ef",
        "id": "3U77h3lqEyIh"
      },
      "execution_count": null,
      "outputs": [
        {
          "output_type": "stream",
          "name": "stdout",
          "text": [
            "Model: \"sequential_28\"\n",
            "_________________________________________________________________\n",
            " Layer (type)                Output Shape              Param #   \n",
            "=================================================================\n",
            " dense_75 (Dense)            (None, 75)                2325      \n",
            "                                                                 \n",
            " dense_76 (Dense)            (None, 75)                5700      \n",
            "                                                                 \n",
            " dense_77 (Dense)            (None, 3)                 228       \n",
            "                                                                 \n",
            "=================================================================\n",
            "Total params: 8,253\n",
            "Trainable params: 8,253\n",
            "Non-trainable params: 0\n",
            "_________________________________________________________________\n"
          ]
        }
      ]
    },
    {
      "cell_type": "markdown",
      "source": [
        "**Proceso de Aprendizaje**\n",
        "\n",
        "Para el entrenamiento es necesario:\n",
        "1. **Función perdida (loss function)** para medir el rendimiento\n",
        "2. **Optimizador (optimizer)** para que la red neuronal se vaya actualizando según el loss function y los datos\n",
        "3. **Métricas (metrics)** para monitorear el entrenamiento y las pruebas. En este caso, será accuracy (verificación de si las clasificaciones hechas son correctas o no)"
      ],
      "metadata": {
        "id": "4GsFIZtbEyIh"
      }
    },
    {
      "cell_type": "code",
      "source": [
        "from keras import optimizers\n",
        "from keras import losses\n",
        "from keras import metrics\n",
        "\n",
        "\n",
        "model.compile(optimizer=optimizers.Adam(lr=0.001), #Optimizador Adam con una tasa de aprendizaje (learning rate) a 0.001 \n",
        "\n",
        "### Si la tasa de aprendizaje es demasiado pequeña, el modelo puede tardar mucho tiempo en converger hacia una solución óptima. \n",
        "#### Si la tasa de aprendizaje es demasiado grande, el modelo puede oscilar o divergir lejos de una solución óptima.\n",
        "\n",
        "loss=losses.categorical_crossentropy, #Función perdida de entropía cruzada categórica (categorical crossentropy) porque es un problema de clasificación\n",
        "\n",
        "metrics=['accuracy']) #Métrica de precisión (accuracy)"
      ],
      "metadata": {
        "colab": {
          "base_uri": "https://localhost:8080/"
        },
        "outputId": "87037aed-8347-4d3f-fd17-f063cde08549",
        "id": "VgeSyOHXEyIh"
      },
      "execution_count": null,
      "outputs": [
        {
          "output_type": "stream",
          "name": "stderr",
          "text": [
            "/usr/local/lib/python3.10/dist-packages/keras/optimizers/legacy/adam.py:117: UserWarning: The `lr` argument is deprecated, use `learning_rate` instead.\n",
            "  super().__init__(name, **kwargs)\n"
          ]
        }
      ]
    },
    {
      "cell_type": "markdown",
      "source": [
        "**Preparación del conjunto de validación**\n",
        "\n",
        "Para evaluar el rendimiento de un modelo de aprendizaje automático durante su entrenamiento."
      ],
      "metadata": {
        "id": "4U2EGIqLEyIh"
      }
    },
    {
      "cell_type": "code",
      "source": [
        "# Divido un conjunto de datos en un conjunto de entrenamiento y un conjunto de validación \n",
        "\n",
        "x_val = X[:144] #Conjunto de validación = primeras 144 filas de los datos de entrada X\n",
        "partial_x_train = X[144:] #Conjunto de entrenamiento = todas las filas de los datos de entrada X excepto las primeras 144 filas\n",
        "\n",
        "y_val = Y[:144] #Conjunto de validación = primeras 144 filas de los datos de salida Y\n",
        "partial_y_train = Y[144:] #Conjunto de entrenamiento = todas las filas de los datos de entrada X excepto las primeras 144 filas\n",
        "\n",
        "### En general, se recomienda que el tamaño del conjunto de validación esté en el rango del 10% al 30% del tamaño total del conjunto de datos. \n",
        "####  Entonces, teniendo 721 filas podría considerar un conjunto de validación de alrededor de 72 a 216 ejemplos. 144 es la mitad de 72 y 216.\n"
      ],
      "metadata": {
        "id": "G5fpad7BEyIh"
      },
      "execution_count": null,
      "outputs": []
    },
    {
      "cell_type": "markdown",
      "source": [
        "**Entrenamiento del modelo**"
      ],
      "metadata": {
        "id": "124qSicVEyIi"
      }
    },
    {
      "cell_type": "code",
      "source": [
        "#Entreno el modelo utilizando los conjuntos de entrenamiento y validación definidos anteriormente\n",
        "\n",
        "history = model.fit(X, Y, batch_size=32, epochs=30, validation_split=0.3)\n",
        "          "
      ],
      "metadata": {
        "colab": {
          "base_uri": "https://localhost:8080/"
        },
        "outputId": "effc85c7-ea60-4085-ed5d-cbc52f2af199",
        "id": "XmPH6kttEyIi"
      },
      "execution_count": null,
      "outputs": [
        {
          "output_type": "stream",
          "name": "stdout",
          "text": [
            "Epoch 1/30\n",
            "14/14 [==============================] - 1s 40ms/step - loss: 0.7852 - accuracy: 0.7401 - val_loss: 0.6229 - val_accuracy: 0.7784\n",
            "Epoch 2/30\n",
            "14/14 [==============================] - 0s 9ms/step - loss: 0.6515 - accuracy: 0.7448 - val_loss: 0.6042 - val_accuracy: 0.7784\n",
            "Epoch 3/30\n",
            "14/14 [==============================] - 0s 8ms/step - loss: 0.6257 - accuracy: 0.7448 - val_loss: 0.6086 - val_accuracy: 0.7784\n",
            "Epoch 4/30\n",
            "14/14 [==============================] - 0s 10ms/step - loss: 0.6117 - accuracy: 0.7448 - val_loss: 0.6046 - val_accuracy: 0.7784\n",
            "Epoch 5/30\n",
            "14/14 [==============================] - 0s 8ms/step - loss: 0.6001 - accuracy: 0.7448 - val_loss: 0.6084 - val_accuracy: 0.7784\n",
            "Epoch 6/30\n",
            "14/14 [==============================] - 0s 8ms/step - loss: 0.5899 - accuracy: 0.7541 - val_loss: 0.6064 - val_accuracy: 0.7784\n",
            "Epoch 7/30\n",
            "14/14 [==============================] - 0s 11ms/step - loss: 0.5784 - accuracy: 0.7564 - val_loss: 0.6073 - val_accuracy: 0.7784\n",
            "Epoch 8/30\n",
            "14/14 [==============================] - 0s 9ms/step - loss: 0.5711 - accuracy: 0.7633 - val_loss: 0.6087 - val_accuracy: 0.7730\n",
            "Epoch 9/30\n",
            "14/14 [==============================] - 0s 9ms/step - loss: 0.5625 - accuracy: 0.7749 - val_loss: 0.6083 - val_accuracy: 0.7730\n",
            "Epoch 10/30\n",
            "14/14 [==============================] - 0s 9ms/step - loss: 0.5553 - accuracy: 0.7657 - val_loss: 0.6030 - val_accuracy: 0.7730\n",
            "Epoch 11/30\n",
            "14/14 [==============================] - 0s 9ms/step - loss: 0.5451 - accuracy: 0.7726 - val_loss: 0.6052 - val_accuracy: 0.7676\n",
            "Epoch 12/30\n",
            "14/14 [==============================] - 0s 10ms/step - loss: 0.5387 - accuracy: 0.7749 - val_loss: 0.6033 - val_accuracy: 0.7676\n",
            "Epoch 13/30\n",
            "14/14 [==============================] - 0s 13ms/step - loss: 0.5295 - accuracy: 0.7749 - val_loss: 0.6068 - val_accuracy: 0.7676\n",
            "Epoch 14/30\n",
            "14/14 [==============================] - 0s 20ms/step - loss: 0.5221 - accuracy: 0.7773 - val_loss: 0.6037 - val_accuracy: 0.7676\n",
            "Epoch 15/30\n",
            "14/14 [==============================] - 0s 17ms/step - loss: 0.5111 - accuracy: 0.7819 - val_loss: 0.6002 - val_accuracy: 0.7892\n",
            "Epoch 16/30\n",
            "14/14 [==============================] - 0s 18ms/step - loss: 0.5051 - accuracy: 0.7773 - val_loss: 0.6062 - val_accuracy: 0.7784\n",
            "Epoch 17/30\n",
            "14/14 [==============================] - 0s 10ms/step - loss: 0.4927 - accuracy: 0.7935 - val_loss: 0.6046 - val_accuracy: 0.7676\n",
            "Epoch 18/30\n",
            "14/14 [==============================] - 0s 10ms/step - loss: 0.4874 - accuracy: 0.7981 - val_loss: 0.6034 - val_accuracy: 0.7784\n",
            "Epoch 19/30\n",
            "14/14 [==============================] - 0s 9ms/step - loss: 0.4780 - accuracy: 0.7981 - val_loss: 0.6160 - val_accuracy: 0.7405\n",
            "Epoch 20/30\n",
            "14/14 [==============================] - 0s 11ms/step - loss: 0.4654 - accuracy: 0.8028 - val_loss: 0.6047 - val_accuracy: 0.7892\n",
            "Epoch 21/30\n",
            "14/14 [==============================] - 0s 13ms/step - loss: 0.4602 - accuracy: 0.8074 - val_loss: 0.6292 - val_accuracy: 0.7351\n",
            "Epoch 22/30\n",
            "14/14 [==============================] - 0s 10ms/step - loss: 0.4445 - accuracy: 0.8167 - val_loss: 0.6166 - val_accuracy: 0.7838\n",
            "Epoch 23/30\n",
            "14/14 [==============================] - 0s 9ms/step - loss: 0.4371 - accuracy: 0.8213 - val_loss: 0.6158 - val_accuracy: 0.7676\n",
            "Epoch 24/30\n",
            "14/14 [==============================] - 0s 10ms/step - loss: 0.4216 - accuracy: 0.8190 - val_loss: 0.6165 - val_accuracy: 0.7730\n",
            "Epoch 25/30\n",
            "14/14 [==============================] - 0s 8ms/step - loss: 0.4146 - accuracy: 0.8283 - val_loss: 0.6196 - val_accuracy: 0.7784\n",
            "Epoch 26/30\n",
            "14/14 [==============================] - 0s 8ms/step - loss: 0.4009 - accuracy: 0.8422 - val_loss: 0.6237 - val_accuracy: 0.7676\n",
            "Epoch 27/30\n",
            "14/14 [==============================] - 0s 9ms/step - loss: 0.3940 - accuracy: 0.8353 - val_loss: 0.6276 - val_accuracy: 0.7459\n",
            "Epoch 28/30\n",
            "14/14 [==============================] - 0s 6ms/step - loss: 0.3859 - accuracy: 0.8422 - val_loss: 0.6434 - val_accuracy: 0.7297\n",
            "Epoch 29/30\n",
            "14/14 [==============================] - 0s 5ms/step - loss: 0.3785 - accuracy: 0.8585 - val_loss: 0.6483 - val_accuracy: 0.7243\n",
            "Epoch 30/30\n",
            "14/14 [==============================] - 0s 6ms/step - loss: 0.3669 - accuracy: 0.8631 - val_loss: 0.6419 - val_accuracy: 0.7568\n"
          ]
        }
      ]
    },
    {
      "cell_type": "markdown",
      "source": [
        "**Visualizaciones**"
      ],
      "metadata": {
        "id": "O3TciN-3EyIi"
      }
    },
    {
      "cell_type": "code",
      "source": [
        "import matplotlib.pyplot as plt"
      ],
      "metadata": {
        "id": "BXWxN8eoEyIi"
      },
      "execution_count": null,
      "outputs": []
    },
    {
      "cell_type": "code",
      "source": [
        "model_history = pd.DataFrame(history.history)\n",
        "model_history"
      ],
      "metadata": {
        "colab": {
          "base_uri": "https://localhost:8080/",
          "height": 990
        },
        "outputId": "9c92ecf8-0625-43fe-9142-b3564d0bc8a7",
        "id": "WCiz4KC-EyIi"
      },
      "execution_count": null,
      "outputs": [
        {
          "output_type": "execute_result",
          "data": {
            "text/plain": [
              "        loss  accuracy  val_loss  val_accuracy\n",
              "0   0.785159  0.740139  0.622917      0.778378\n",
              "1   0.651458  0.744780  0.604164      0.778378\n",
              "2   0.625737  0.744780  0.608630      0.778378\n",
              "3   0.611690  0.744780  0.604622      0.778378\n",
              "4   0.600126  0.744780  0.608407      0.778378\n",
              "5   0.589930  0.754060  0.606367      0.778378\n",
              "6   0.578401  0.756380  0.607291      0.778378\n",
              "7   0.571101  0.763341  0.608671      0.772973\n",
              "8   0.562512  0.774942  0.608274      0.772973\n",
              "9   0.555337  0.765661  0.603025      0.772973\n",
              "10  0.545093  0.772622  0.605185      0.767568\n",
              "11  0.538733  0.774942  0.603257      0.767568\n",
              "12  0.529506  0.774942  0.606788      0.767568\n",
              "13  0.522086  0.777262  0.603727      0.767568\n",
              "14  0.511088  0.781903  0.600160      0.789189\n",
              "15  0.505119  0.777262  0.606187      0.778378\n",
              "16  0.492663  0.793503  0.604555      0.767568\n",
              "17  0.487428  0.798144  0.603439      0.778378\n",
              "18  0.478035  0.798144  0.615992      0.740541\n",
              "19  0.465435  0.802784  0.604705      0.789189\n",
              "20  0.460246  0.807425  0.629243      0.735135\n",
              "21  0.444492  0.816705  0.616616      0.783784\n",
              "22  0.437059  0.821346  0.615818      0.767568\n",
              "23  0.421588  0.819026  0.616501      0.772973\n",
              "24  0.414610  0.828306  0.619619      0.778378\n",
              "25  0.400914  0.842227  0.623713      0.767568\n",
              "26  0.393992  0.835267  0.627580      0.745946\n",
              "27  0.385893  0.842227  0.643434      0.729730\n",
              "28  0.378486  0.858469  0.648288      0.724324\n",
              "29  0.366903  0.863109  0.641903      0.756757"
            ],
            "text/html": [
              "\n",
              "  <div id=\"df-b29532df-096b-4a61-83b7-f7ca7c84523c\">\n",
              "    <div class=\"colab-df-container\">\n",
              "      <div>\n",
              "<style scoped>\n",
              "    .dataframe tbody tr th:only-of-type {\n",
              "        vertical-align: middle;\n",
              "    }\n",
              "\n",
              "    .dataframe tbody tr th {\n",
              "        vertical-align: top;\n",
              "    }\n",
              "\n",
              "    .dataframe thead th {\n",
              "        text-align: right;\n",
              "    }\n",
              "</style>\n",
              "<table border=\"1\" class=\"dataframe\">\n",
              "  <thead>\n",
              "    <tr style=\"text-align: right;\">\n",
              "      <th></th>\n",
              "      <th>loss</th>\n",
              "      <th>accuracy</th>\n",
              "      <th>val_loss</th>\n",
              "      <th>val_accuracy</th>\n",
              "    </tr>\n",
              "  </thead>\n",
              "  <tbody>\n",
              "    <tr>\n",
              "      <th>0</th>\n",
              "      <td>0.785159</td>\n",
              "      <td>0.740139</td>\n",
              "      <td>0.622917</td>\n",
              "      <td>0.778378</td>\n",
              "    </tr>\n",
              "    <tr>\n",
              "      <th>1</th>\n",
              "      <td>0.651458</td>\n",
              "      <td>0.744780</td>\n",
              "      <td>0.604164</td>\n",
              "      <td>0.778378</td>\n",
              "    </tr>\n",
              "    <tr>\n",
              "      <th>2</th>\n",
              "      <td>0.625737</td>\n",
              "      <td>0.744780</td>\n",
              "      <td>0.608630</td>\n",
              "      <td>0.778378</td>\n",
              "    </tr>\n",
              "    <tr>\n",
              "      <th>3</th>\n",
              "      <td>0.611690</td>\n",
              "      <td>0.744780</td>\n",
              "      <td>0.604622</td>\n",
              "      <td>0.778378</td>\n",
              "    </tr>\n",
              "    <tr>\n",
              "      <th>4</th>\n",
              "      <td>0.600126</td>\n",
              "      <td>0.744780</td>\n",
              "      <td>0.608407</td>\n",
              "      <td>0.778378</td>\n",
              "    </tr>\n",
              "    <tr>\n",
              "      <th>5</th>\n",
              "      <td>0.589930</td>\n",
              "      <td>0.754060</td>\n",
              "      <td>0.606367</td>\n",
              "      <td>0.778378</td>\n",
              "    </tr>\n",
              "    <tr>\n",
              "      <th>6</th>\n",
              "      <td>0.578401</td>\n",
              "      <td>0.756380</td>\n",
              "      <td>0.607291</td>\n",
              "      <td>0.778378</td>\n",
              "    </tr>\n",
              "    <tr>\n",
              "      <th>7</th>\n",
              "      <td>0.571101</td>\n",
              "      <td>0.763341</td>\n",
              "      <td>0.608671</td>\n",
              "      <td>0.772973</td>\n",
              "    </tr>\n",
              "    <tr>\n",
              "      <th>8</th>\n",
              "      <td>0.562512</td>\n",
              "      <td>0.774942</td>\n",
              "      <td>0.608274</td>\n",
              "      <td>0.772973</td>\n",
              "    </tr>\n",
              "    <tr>\n",
              "      <th>9</th>\n",
              "      <td>0.555337</td>\n",
              "      <td>0.765661</td>\n",
              "      <td>0.603025</td>\n",
              "      <td>0.772973</td>\n",
              "    </tr>\n",
              "    <tr>\n",
              "      <th>10</th>\n",
              "      <td>0.545093</td>\n",
              "      <td>0.772622</td>\n",
              "      <td>0.605185</td>\n",
              "      <td>0.767568</td>\n",
              "    </tr>\n",
              "    <tr>\n",
              "      <th>11</th>\n",
              "      <td>0.538733</td>\n",
              "      <td>0.774942</td>\n",
              "      <td>0.603257</td>\n",
              "      <td>0.767568</td>\n",
              "    </tr>\n",
              "    <tr>\n",
              "      <th>12</th>\n",
              "      <td>0.529506</td>\n",
              "      <td>0.774942</td>\n",
              "      <td>0.606788</td>\n",
              "      <td>0.767568</td>\n",
              "    </tr>\n",
              "    <tr>\n",
              "      <th>13</th>\n",
              "      <td>0.522086</td>\n",
              "      <td>0.777262</td>\n",
              "      <td>0.603727</td>\n",
              "      <td>0.767568</td>\n",
              "    </tr>\n",
              "    <tr>\n",
              "      <th>14</th>\n",
              "      <td>0.511088</td>\n",
              "      <td>0.781903</td>\n",
              "      <td>0.600160</td>\n",
              "      <td>0.789189</td>\n",
              "    </tr>\n",
              "    <tr>\n",
              "      <th>15</th>\n",
              "      <td>0.505119</td>\n",
              "      <td>0.777262</td>\n",
              "      <td>0.606187</td>\n",
              "      <td>0.778378</td>\n",
              "    </tr>\n",
              "    <tr>\n",
              "      <th>16</th>\n",
              "      <td>0.492663</td>\n",
              "      <td>0.793503</td>\n",
              "      <td>0.604555</td>\n",
              "      <td>0.767568</td>\n",
              "    </tr>\n",
              "    <tr>\n",
              "      <th>17</th>\n",
              "      <td>0.487428</td>\n",
              "      <td>0.798144</td>\n",
              "      <td>0.603439</td>\n",
              "      <td>0.778378</td>\n",
              "    </tr>\n",
              "    <tr>\n",
              "      <th>18</th>\n",
              "      <td>0.478035</td>\n",
              "      <td>0.798144</td>\n",
              "      <td>0.615992</td>\n",
              "      <td>0.740541</td>\n",
              "    </tr>\n",
              "    <tr>\n",
              "      <th>19</th>\n",
              "      <td>0.465435</td>\n",
              "      <td>0.802784</td>\n",
              "      <td>0.604705</td>\n",
              "      <td>0.789189</td>\n",
              "    </tr>\n",
              "    <tr>\n",
              "      <th>20</th>\n",
              "      <td>0.460246</td>\n",
              "      <td>0.807425</td>\n",
              "      <td>0.629243</td>\n",
              "      <td>0.735135</td>\n",
              "    </tr>\n",
              "    <tr>\n",
              "      <th>21</th>\n",
              "      <td>0.444492</td>\n",
              "      <td>0.816705</td>\n",
              "      <td>0.616616</td>\n",
              "      <td>0.783784</td>\n",
              "    </tr>\n",
              "    <tr>\n",
              "      <th>22</th>\n",
              "      <td>0.437059</td>\n",
              "      <td>0.821346</td>\n",
              "      <td>0.615818</td>\n",
              "      <td>0.767568</td>\n",
              "    </tr>\n",
              "    <tr>\n",
              "      <th>23</th>\n",
              "      <td>0.421588</td>\n",
              "      <td>0.819026</td>\n",
              "      <td>0.616501</td>\n",
              "      <td>0.772973</td>\n",
              "    </tr>\n",
              "    <tr>\n",
              "      <th>24</th>\n",
              "      <td>0.414610</td>\n",
              "      <td>0.828306</td>\n",
              "      <td>0.619619</td>\n",
              "      <td>0.778378</td>\n",
              "    </tr>\n",
              "    <tr>\n",
              "      <th>25</th>\n",
              "      <td>0.400914</td>\n",
              "      <td>0.842227</td>\n",
              "      <td>0.623713</td>\n",
              "      <td>0.767568</td>\n",
              "    </tr>\n",
              "    <tr>\n",
              "      <th>26</th>\n",
              "      <td>0.393992</td>\n",
              "      <td>0.835267</td>\n",
              "      <td>0.627580</td>\n",
              "      <td>0.745946</td>\n",
              "    </tr>\n",
              "    <tr>\n",
              "      <th>27</th>\n",
              "      <td>0.385893</td>\n",
              "      <td>0.842227</td>\n",
              "      <td>0.643434</td>\n",
              "      <td>0.729730</td>\n",
              "    </tr>\n",
              "    <tr>\n",
              "      <th>28</th>\n",
              "      <td>0.378486</td>\n",
              "      <td>0.858469</td>\n",
              "      <td>0.648288</td>\n",
              "      <td>0.724324</td>\n",
              "    </tr>\n",
              "    <tr>\n",
              "      <th>29</th>\n",
              "      <td>0.366903</td>\n",
              "      <td>0.863109</td>\n",
              "      <td>0.641903</td>\n",
              "      <td>0.756757</td>\n",
              "    </tr>\n",
              "  </tbody>\n",
              "</table>\n",
              "</div>\n",
              "      <button class=\"colab-df-convert\" onclick=\"convertToInteractive('df-b29532df-096b-4a61-83b7-f7ca7c84523c')\"\n",
              "              title=\"Convert this dataframe to an interactive table.\"\n",
              "              style=\"display:none;\">\n",
              "        \n",
              "  <svg xmlns=\"http://www.w3.org/2000/svg\" height=\"24px\"viewBox=\"0 0 24 24\"\n",
              "       width=\"24px\">\n",
              "    <path d=\"M0 0h24v24H0V0z\" fill=\"none\"/>\n",
              "    <path d=\"M18.56 5.44l.94 2.06.94-2.06 2.06-.94-2.06-.94-.94-2.06-.94 2.06-2.06.94zm-11 1L8.5 8.5l.94-2.06 2.06-.94-2.06-.94L8.5 2.5l-.94 2.06-2.06.94zm10 10l.94 2.06.94-2.06 2.06-.94-2.06-.94-.94-2.06-.94 2.06-2.06.94z\"/><path d=\"M17.41 7.96l-1.37-1.37c-.4-.4-.92-.59-1.43-.59-.52 0-1.04.2-1.43.59L10.3 9.45l-7.72 7.72c-.78.78-.78 2.05 0 2.83L4 21.41c.39.39.9.59 1.41.59.51 0 1.02-.2 1.41-.59l7.78-7.78 2.81-2.81c.8-.78.8-2.07 0-2.86zM5.41 20L4 18.59l7.72-7.72 1.47 1.35L5.41 20z\"/>\n",
              "  </svg>\n",
              "      </button>\n",
              "      \n",
              "  <style>\n",
              "    .colab-df-container {\n",
              "      display:flex;\n",
              "      flex-wrap:wrap;\n",
              "      gap: 12px;\n",
              "    }\n",
              "\n",
              "    .colab-df-convert {\n",
              "      background-color: #E8F0FE;\n",
              "      border: none;\n",
              "      border-radius: 50%;\n",
              "      cursor: pointer;\n",
              "      display: none;\n",
              "      fill: #1967D2;\n",
              "      height: 32px;\n",
              "      padding: 0 0 0 0;\n",
              "      width: 32px;\n",
              "    }\n",
              "\n",
              "    .colab-df-convert:hover {\n",
              "      background-color: #E2EBFA;\n",
              "      box-shadow: 0px 1px 2px rgba(60, 64, 67, 0.3), 0px 1px 3px 1px rgba(60, 64, 67, 0.15);\n",
              "      fill: #174EA6;\n",
              "    }\n",
              "\n",
              "    [theme=dark] .colab-df-convert {\n",
              "      background-color: #3B4455;\n",
              "      fill: #D2E3FC;\n",
              "    }\n",
              "\n",
              "    [theme=dark] .colab-df-convert:hover {\n",
              "      background-color: #434B5C;\n",
              "      box-shadow: 0px 1px 3px 1px rgba(0, 0, 0, 0.15);\n",
              "      filter: drop-shadow(0px 1px 2px rgba(0, 0, 0, 0.3));\n",
              "      fill: #FFFFFF;\n",
              "    }\n",
              "  </style>\n",
              "\n",
              "      <script>\n",
              "        const buttonEl =\n",
              "          document.querySelector('#df-b29532df-096b-4a61-83b7-f7ca7c84523c button.colab-df-convert');\n",
              "        buttonEl.style.display =\n",
              "          google.colab.kernel.accessAllowed ? 'block' : 'none';\n",
              "\n",
              "        async function convertToInteractive(key) {\n",
              "          const element = document.querySelector('#df-b29532df-096b-4a61-83b7-f7ca7c84523c');\n",
              "          const dataTable =\n",
              "            await google.colab.kernel.invokeFunction('convertToInteractive',\n",
              "                                                     [key], {});\n",
              "          if (!dataTable) return;\n",
              "\n",
              "          const docLinkHtml = 'Like what you see? Visit the ' +\n",
              "            '<a target=\"_blank\" href=https://colab.research.google.com/notebooks/data_table.ipynb>data table notebook</a>'\n",
              "            + ' to learn more about interactive tables.';\n",
              "          element.innerHTML = '';\n",
              "          dataTable['output_type'] = 'display_data';\n",
              "          await google.colab.output.renderOutput(dataTable, element);\n",
              "          const docLink = document.createElement('div');\n",
              "          docLink.innerHTML = docLinkHtml;\n",
              "          element.appendChild(docLink);\n",
              "        }\n",
              "      </script>\n",
              "    </div>\n",
              "  </div>\n",
              "  "
            ]
          },
          "metadata": {},
          "execution_count": 759
        }
      ]
    },
    {
      "cell_type": "code",
      "source": [
        "# Precisión de entrenamiento y validación\n",
        "\n",
        "loss = history.history['loss']\n",
        "val_loss = history.history['val_loss']\n",
        "epochs = range(1, len(loss) + 1)\n",
        "plt.plot(epochs, loss, 'bo', label='Training loss')\n",
        "plt.plot(epochs, val_loss, 'b', label='Validation loss')\n",
        "plt.title('Training and validation loss')\n",
        "plt.xlabel('Epochs')\n",
        "plt.ylabel('Loss')\n",
        "plt.legend()\n",
        "plt.show()"
      ],
      "metadata": {
        "colab": {
          "base_uri": "https://localhost:8080/",
          "height": 472
        },
        "outputId": "125b8902-bcde-410a-b128-57ff6f36b57e",
        "id": "U4QBqcBLEyIi"
      },
      "execution_count": null,
      "outputs": [
        {
          "output_type": "display_data",
          "data": {
            "text/plain": [
              "<Figure size 640x480 with 1 Axes>"
            ],
            "image/png": "[encoded data removed]"
          },
          "metadata": {}
        }
      ]
    },
    {
      "cell_type": "markdown",
      "source": [
        "**Evaluación del modelo**\n",
        "\n",
        "\n"
      ],
      "metadata": {
        "id": "D2n-9MlGEyIi"
      }
    },
    {
      "cell_type": "code",
      "source": [
        "model.evaluate(X, Y)"
      ],
      "metadata": {
        "colab": {
          "base_uri": "https://localhost:8080/"
        },
        "outputId": "5f7816cb-a7e7-443c-cbe4-62bebc30d12c",
        "id": "zkTty2vCEyIi"
      },
      "execution_count": null,
      "outputs": [
        {
          "output_type": "stream",
          "name": "stdout",
          "text": [
            "20/20 [==============================] - 0s 2ms/step - loss: 0.4355 - accuracy: 0.8263\n"
          ]
        },
        {
          "output_type": "execute_result",
          "data": {
            "text/plain": [
              "[0.43553686141967773, 0.826298713684082]"
            ]
          },
          "metadata": {},
          "execution_count": 761
        }
      ]
    },
    {
      "cell_type": "markdown",
      "source": [
        "**Predicciones**"
      ],
      "metadata": {
        "id": "qJhL7ECuEyIj"
      }
    },
    {
      "cell_type": "code",
      "source": [
        "model.predict(X)"
      ],
      "metadata": {
        "colab": {
          "base_uri": "https://localhost:8080/"
        },
        "outputId": "f581b696-45a4-430a-950f-8cde59959e11",
        "id": "A2DvY7weEyIj"
      },
      "execution_count": null,
      "outputs": [
        {
          "output_type": "stream",
          "name": "stdout",
          "text": [
            "20/20 [==============================] - 0s 2ms/step\n"
          ]
        },
        {
          "output_type": "execute_result",
          "data": {
            "text/plain": [
              "array([[9.9112052e-01, 7.9475604e-03, 9.3183189e-04],\n",
              "       [9.9046147e-01, 9.1566592e-03, 3.8187526e-04],\n",
              "       [8.5368329e-01, 1.2235716e-01, 2.3959475e-02],\n",
              "       ...,\n",
              "       [2.6694363e-01, 7.3222995e-01, 8.2643051e-04],\n",
              "       [9.6233392e-01, 3.7407186e-02, 2.5882851e-04],\n",
              "       [9.3735427e-01, 5.3913213e-02, 8.7324372e-03]], dtype=float32)"
            ]
          },
          "metadata": {},
          "execution_count": 762
        }
      ]
    },
    {
      "cell_type": "markdown",
      "source": [
        "# **Conclusiones**\n",
        "\n"
      ],
      "metadata": {
        "id": "v-3B3C_-EOYb"
      }
    },
    {
      "cell_type": "markdown",
      "source": [
        "Debido a que cada punto de datos debe clasificarse en una sola categoría (Music effects), el problema a modelar es específicamente una instancia de clasificación multiclase de una sola etiqueta. Por ello, un modelo secuencial es una buena opción. \n",
        "\n",
        "En un primer momento (Red Neuronal V1) decidí utilizar como métrica categorical accuracy (precisión categórica), como función de perdida categorical crossentropy (entropía cruzada categórica) y RMprop (Root Mean Square Propagation) como algoritmo de optimización. \n",
        "\n",
        "Con esto obtuve:\n",
        "*   Una perdida (loss) de 0.5, el cual puede considerarse una perdida moderada.\n",
        "*   Una exactitud categórica (categorical_accuracy) de entre 0.7 y 0.8, es decir que la red neuronal está clasificando correctamente el 70% a 80% de los datos de entrada.\n",
        "*   Una perdida de validación (val_loss) y una exactitud categorica de validación (val_categorical_accuracy) muy similares a los resultados anteriormente mencionados.\n",
        "\n",
        "Por lo tanto, creo que la red neuronal está produciendo resultados moderadamente precisos.\n",
        "\n",
        "Posteriormente, realicé algunas modificaciones (se pueden observar en Red Neuronal V2):\n",
        "\n",
        "*  Pasé de 64 nodos a 75 [no hice un aumento demasiado brusco de nodos en la red neuronal para no llevarla a un sobreajuste (overfitting)]\n",
        "*  Utilicé como optimizador Adam (Adaptive Moment Estimation), que es útil también para los casos de clasificación\n",
        "*  Coloqué como métrica simplemente accuracy\n",
        "*  Modifiqué el conjunto de filas de 100 a 144 (la mitad de 72 y 216, de las 721 filas) en la preparacion del conjunto de validacion\n",
        "\n",
        "Con estas modificaciones obtuve una leve mejoría, entiendase, una precisión de clasificación del 83% en el conjunto de entrada, una perdida del 0.4 del conjunto de datos de prueba y una precisión de validación ligeramente mayor que la precisión de entrenamiento, lo que sugiere que el modelo está generalizando bien. \n",
        "En general, estos valores indican que el modelo tiene un rendimiento aún aceptable, pero podría mejorarse.\n"
      ],
      "metadata": {
        "id": "GkcxGxyPESW8"
      }
    }
  ]
}